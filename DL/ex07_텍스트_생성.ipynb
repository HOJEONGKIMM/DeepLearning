{
  "nbformat": 4,
  "nbformat_minor": 0,
  "metadata": {
    "colab": {
      "provenance": []
    },
    "kernelspec": {
      "name": "python3",
      "display_name": "Python 3"
    },
    "language_info": {
      "name": "python"
    }
  },
  "cells": [
    {
      "cell_type": "code",
      "execution_count": null,
      "metadata": {
        "id": "2G3GuVV7eg4s"
      },
      "outputs": [],
      "source": [
        "# input = 가는\n",
        "# output = 말이고 고와야 \"오는 말이 곱다\"\n",
        "# 첫 마디 입력시 뒤에 나올 말 생성"
      ]
    },
    {
      "cell_type": "code",
      "source": [
        "text=\"\"\"경마장에 있는 말이 뛰고 있다\\n\n",
        "그의 말이 법이다\\n\n",
        "가는 말이 고와야 오는 말이 곱다\"\"\"\n",
        "#  바로 전의 말만 확인하고 텍스틀ㄹ 생성하는게 아니라 전에 나왔던 모든 일을 확인하고\n",
        "# 텍스트를 생성하기 때문에 '말이' 다음에 나오는 다양한 말ㄷ르을 생성 가능\n"
      ],
      "metadata": {
        "id": "PjoWClu_el54"
      },
      "execution_count": null,
      "outputs": []
    },
    {
      "cell_type": "code",
      "source": [
        "# 단어 분리\n",
        "from tensorflow.keras.preprocessing.text import Tokenizer\n",
        "\n",
        "t = Tokenizer()\n",
        "t.fit_on_texts([text])\n",
        "\n",
        "t.word_index"
      ],
      "metadata": {
        "colab": {
          "base_uri": "https://localhost:8080/"
        },
        "id": "8oPa-bITelzo",
        "outputId": "1e2661fb-32d8-4169-c1a1-901b34ad75bd"
      },
      "execution_count": null,
      "outputs": [
        {
          "output_type": "execute_result",
          "data": {
            "text/plain": [
              "{'말이': 1,\n",
              " '경마장에': 2,\n",
              " '있는': 3,\n",
              " '뛰고': 4,\n",
              " '있다': 5,\n",
              " '그의': 6,\n",
              " '법이다': 7,\n",
              " '가는': 8,\n",
              " '고와야': 9,\n",
              " '오는': 10,\n",
              " '곱다': 11}"
            ]
          },
          "metadata": {},
          "execution_count": 4
        }
      ]
    },
    {
      "cell_type": "code",
      "source": [
        "# 훈련 데이터 생성\n",
        "sequences = []\n",
        "for line in text.split('\\n'):\n",
        "  # 단어를 정수로 변경\n",
        "  encoded = t.texts_to_sequences([line])[0]\n",
        "\n",
        "  # 2개 이상의 조합 생성\n",
        "  for i in range(1,len(encoded)):\n",
        "    sequence = encoded[:i+1]\n",
        "    sequences.append(sequence)"
      ],
      "metadata": {
        "id": "wnYJTNOnelU9"
      },
      "execution_count": null,
      "outputs": []
    },
    {
      "cell_type": "code",
      "source": [
        "sequences"
      ],
      "metadata": {
        "colab": {
          "base_uri": "https://localhost:8080/"
        },
        "id": "rWrZRe9zelSm",
        "outputId": "0a2efede-0fb7-453a-c814-923c4a60ab9c"
      },
      "execution_count": null,
      "outputs": [
        {
          "output_type": "execute_result",
          "data": {
            "text/plain": [
              "[[2, 3],\n",
              " [2, 3, 1],\n",
              " [2, 3, 1, 4],\n",
              " [2, 3, 1, 4, 5],\n",
              " [6, 1],\n",
              " [6, 1, 7],\n",
              " [8, 1],\n",
              " [8, 1, 9],\n",
              " [8, 1, 9, 10],\n",
              " [8, 1, 9, 10, 1],\n",
              " [8, 1, 9, 10, 1, 11]]"
            ]
          },
          "metadata": {},
          "execution_count": 6
        }
      ]
    },
    {
      "cell_type": "code",
      "source": [
        "from tensorflow.keras.preprocessing.sequence import pad_sequences\n",
        "\n",
        "max_len = 6\n",
        "\n",
        "sequences = pad_sequences(sequences, maxlen = max_len)\n",
        "sequences"
      ],
      "metadata": {
        "colab": {
          "base_uri": "https://localhost:8080/"
        },
        "id": "L-A4tUlYelP_",
        "outputId": "ca47067c-ace7-49c0-bbf6-56b43b92a657"
      },
      "execution_count": null,
      "outputs": [
        {
          "output_type": "execute_result",
          "data": {
            "text/plain": [
              "array([[ 0,  0,  0,  0,  2,  3],\n",
              "       [ 0,  0,  0,  2,  3,  1],\n",
              "       [ 0,  0,  2,  3,  1,  4],\n",
              "       [ 0,  2,  3,  1,  4,  5],\n",
              "       [ 0,  0,  0,  0,  6,  1],\n",
              "       [ 0,  0,  0,  6,  1,  7],\n",
              "       [ 0,  0,  0,  0,  8,  1],\n",
              "       [ 0,  0,  0,  8,  1,  9],\n",
              "       [ 0,  0,  8,  1,  9, 10],\n",
              "       [ 0,  8,  1,  9, 10,  1],\n",
              "       [ 8,  1,  9, 10,  1, 11]], dtype=int32)"
            ]
          },
          "metadata": {},
          "execution_count": 7
        }
      ]
    },
    {
      "cell_type": "code",
      "source": [
        "import numpy as np\n",
        "sequences = np.array(sequences)\n",
        "X = sequences[:,:-1] # 문제 데이터 앞의 5단어\n",
        "y = sequences[:,-1] # 정답 데이터 뒤의 1단어"
      ],
      "metadata": {
        "id": "PlNZ_ezvelNk"
      },
      "execution_count": null,
      "outputs": []
    },
    {
      "cell_type": "code",
      "source": [
        "# 원핫인코딩\n",
        "from tensorflow.keras.utils import to_categorical\n",
        "\n",
        "y_en = to_categorical(y,num_classes = 12)\n",
        "y_en"
      ],
      "metadata": {
        "colab": {
          "base_uri": "https://localhost:8080/"
        },
        "id": "-Ov38n9VelLN",
        "outputId": "33e54760-4fa5-44b0-a0f4-e801445feb23"
      },
      "execution_count": null,
      "outputs": [
        {
          "output_type": "execute_result",
          "data": {
            "text/plain": [
              "array([[0., 0., 0., 1., 0., 0., 0., 0., 0., 0., 0., 0.],\n",
              "       [0., 1., 0., 0., 0., 0., 0., 0., 0., 0., 0., 0.],\n",
              "       [0., 0., 0., 0., 1., 0., 0., 0., 0., 0., 0., 0.],\n",
              "       [0., 0., 0., 0., 0., 1., 0., 0., 0., 0., 0., 0.],\n",
              "       [0., 1., 0., 0., 0., 0., 0., 0., 0., 0., 0., 0.],\n",
              "       [0., 0., 0., 0., 0., 0., 0., 1., 0., 0., 0., 0.],\n",
              "       [0., 1., 0., 0., 0., 0., 0., 0., 0., 0., 0., 0.],\n",
              "       [0., 0., 0., 0., 0., 0., 0., 0., 0., 1., 0., 0.],\n",
              "       [0., 0., 0., 0., 0., 0., 0., 0., 0., 0., 1., 0.],\n",
              "       [0., 1., 0., 0., 0., 0., 0., 0., 0., 0., 0., 0.],\n",
              "       [0., 0., 0., 0., 0., 0., 0., 0., 0., 0., 0., 1.]], dtype=float32)"
            ]
          },
          "metadata": {},
          "execution_count": 10
        }
      ]
    },
    {
      "cell_type": "code",
      "source": [
        "from tensorflow.keras.layers import Embedding, Dense, SimpleRNN\n",
        "from tensorflow.keras import Sequential\n",
        "\n",
        "model1 = Sequential()\n",
        "\n",
        "model1.add(Embedding(12,10,input_length = 5))\n",
        "model1.add(SimpleRNN(32))\n",
        "model1.add(Dense(units = 12, activation = 'softmax'))\n",
        "\n",
        "model1.compile(\n",
        "    loss = 'categorical_crossentropy',\n",
        "    optimizer = 'adam',\n",
        "    metrics = ['accuracy']\n",
        ")\n",
        "\n",
        "model1.fit(X, y_en, epochs = 200)"
      ],
      "metadata": {
        "colab": {
          "base_uri": "https://localhost:8080/"
        },
        "id": "lQqxXkEShMp4",
        "outputId": "f3e0670e-f869-4205-81f3-72d97f5d398b"
      },
      "execution_count": null,
      "outputs": [
        {
          "output_type": "stream",
          "name": "stdout",
          "text": [
            "Epoch 1/200\n",
            "1/1 [==============================] - 2s 2s/step - loss: 2.5572 - accuracy: 0.0909\n",
            "Epoch 2/200\n",
            "1/1 [==============================] - 0s 27ms/step - loss: 2.5363 - accuracy: 0.0909\n",
            "Epoch 3/200\n",
            "1/1 [==============================] - 0s 21ms/step - loss: 2.5168 - accuracy: 0.0909\n",
            "Epoch 4/200\n",
            "1/1 [==============================] - 0s 18ms/step - loss: 2.4985 - accuracy: 0.0909\n",
            "Epoch 5/200\n",
            "1/1 [==============================] - 0s 13ms/step - loss: 2.4812 - accuracy: 0.0909\n",
            "Epoch 6/200\n",
            "1/1 [==============================] - 0s 22ms/step - loss: 2.4646 - accuracy: 0.1818\n",
            "Epoch 7/200\n",
            "1/1 [==============================] - 0s 17ms/step - loss: 2.4486 - accuracy: 0.1818\n",
            "Epoch 8/200\n",
            "1/1 [==============================] - 0s 15ms/step - loss: 2.4330 - accuracy: 0.2727\n",
            "Epoch 9/200\n",
            "1/1 [==============================] - 0s 16ms/step - loss: 2.4177 - accuracy: 0.3636\n",
            "Epoch 10/200\n",
            "1/1 [==============================] - 0s 20ms/step - loss: 2.4025 - accuracy: 0.3636\n",
            "Epoch 11/200\n",
            "1/1 [==============================] - 0s 14ms/step - loss: 2.3871 - accuracy: 0.3636\n",
            "Epoch 12/200\n",
            "1/1 [==============================] - 0s 14ms/step - loss: 2.3715 - accuracy: 0.3636\n",
            "Epoch 13/200\n",
            "1/1 [==============================] - 0s 16ms/step - loss: 2.3555 - accuracy: 0.3636\n",
            "Epoch 14/200\n",
            "1/1 [==============================] - 0s 14ms/step - loss: 2.3389 - accuracy: 0.3636\n",
            "Epoch 15/200\n",
            "1/1 [==============================] - 0s 14ms/step - loss: 2.3216 - accuracy: 0.3636\n",
            "Epoch 16/200\n",
            "1/1 [==============================] - 0s 14ms/step - loss: 2.3035 - accuracy: 0.3636\n",
            "Epoch 17/200\n",
            "1/1 [==============================] - 0s 13ms/step - loss: 2.2845 - accuracy: 0.3636\n",
            "Epoch 18/200\n",
            "1/1 [==============================] - 0s 13ms/step - loss: 2.2644 - accuracy: 0.3636\n",
            "Epoch 19/200\n",
            "1/1 [==============================] - 0s 15ms/step - loss: 2.2433 - accuracy: 0.3636\n",
            "Epoch 20/200\n",
            "1/1 [==============================] - 0s 14ms/step - loss: 2.2211 - accuracy: 0.3636\n",
            "Epoch 21/200\n",
            "1/1 [==============================] - 0s 14ms/step - loss: 2.1979 - accuracy: 0.3636\n",
            "Epoch 22/200\n",
            "1/1 [==============================] - 0s 16ms/step - loss: 2.1737 - accuracy: 0.3636\n",
            "Epoch 23/200\n",
            "1/1 [==============================] - 0s 13ms/step - loss: 2.1486 - accuracy: 0.3636\n",
            "Epoch 24/200\n",
            "1/1 [==============================] - 0s 15ms/step - loss: 2.1230 - accuracy: 0.3636\n",
            "Epoch 25/200\n",
            "1/1 [==============================] - 0s 13ms/step - loss: 2.0971 - accuracy: 0.3636\n",
            "Epoch 26/200\n",
            "1/1 [==============================] - 0s 14ms/step - loss: 2.0716 - accuracy: 0.3636\n",
            "Epoch 27/200\n",
            "1/1 [==============================] - 0s 12ms/step - loss: 2.0469 - accuracy: 0.3636\n",
            "Epoch 28/200\n",
            "1/1 [==============================] - 0s 13ms/step - loss: 2.0238 - accuracy: 0.3636\n",
            "Epoch 29/200\n",
            "1/1 [==============================] - 0s 14ms/step - loss: 2.0029 - accuracy: 0.3636\n",
            "Epoch 30/200\n",
            "1/1 [==============================] - 0s 12ms/step - loss: 1.9849 - accuracy: 0.3636\n",
            "Epoch 31/200\n",
            "1/1 [==============================] - 0s 13ms/step - loss: 1.9700 - accuracy: 0.3636\n",
            "Epoch 32/200\n",
            "1/1 [==============================] - 0s 14ms/step - loss: 1.9580 - accuracy: 0.3636\n",
            "Epoch 33/200\n",
            "1/1 [==============================] - 0s 14ms/step - loss: 1.9484 - accuracy: 0.3636\n",
            "Epoch 34/200\n",
            "1/1 [==============================] - 0s 15ms/step - loss: 1.9399 - accuracy: 0.3636\n",
            "Epoch 35/200\n",
            "1/1 [==============================] - 0s 14ms/step - loss: 1.9313 - accuracy: 0.3636\n",
            "Epoch 36/200\n",
            "1/1 [==============================] - 0s 14ms/step - loss: 1.9216 - accuracy: 0.3636\n",
            "Epoch 37/200\n",
            "1/1 [==============================] - 0s 13ms/step - loss: 1.9100 - accuracy: 0.3636\n",
            "Epoch 38/200\n",
            "1/1 [==============================] - 0s 19ms/step - loss: 1.8966 - accuracy: 0.3636\n",
            "Epoch 39/200\n",
            "1/1 [==============================] - 0s 21ms/step - loss: 1.8817 - accuracy: 0.3636\n",
            "Epoch 40/200\n",
            "1/1 [==============================] - 0s 15ms/step - loss: 1.8657 - accuracy: 0.3636\n",
            "Epoch 41/200\n",
            "1/1 [==============================] - 0s 20ms/step - loss: 1.8494 - accuracy: 0.3636\n",
            "Epoch 42/200\n",
            "1/1 [==============================] - 0s 18ms/step - loss: 1.8333 - accuracy: 0.3636\n",
            "Epoch 43/200\n",
            "1/1 [==============================] - 0s 15ms/step - loss: 1.8178 - accuracy: 0.3636\n",
            "Epoch 44/200\n",
            "1/1 [==============================] - 0s 14ms/step - loss: 1.8031 - accuracy: 0.3636\n",
            "Epoch 45/200\n",
            "1/1 [==============================] - 0s 13ms/step - loss: 1.7893 - accuracy: 0.3636\n",
            "Epoch 46/200\n",
            "1/1 [==============================] - 0s 14ms/step - loss: 1.7761 - accuracy: 0.3636\n",
            "Epoch 47/200\n",
            "1/1 [==============================] - 0s 14ms/step - loss: 1.7634 - accuracy: 0.3636\n",
            "Epoch 48/200\n",
            "1/1 [==============================] - 0s 12ms/step - loss: 1.7507 - accuracy: 0.3636\n",
            "Epoch 49/200\n",
            "1/1 [==============================] - 0s 13ms/step - loss: 1.7377 - accuracy: 0.3636\n",
            "Epoch 50/200\n",
            "1/1 [==============================] - 0s 16ms/step - loss: 1.7243 - accuracy: 0.3636\n",
            "Epoch 51/200\n",
            "1/1 [==============================] - 0s 15ms/step - loss: 1.7102 - accuracy: 0.3636\n",
            "Epoch 52/200\n",
            "1/1 [==============================] - 0s 13ms/step - loss: 1.6953 - accuracy: 0.4545\n",
            "Epoch 53/200\n",
            "1/1 [==============================] - 0s 18ms/step - loss: 1.6798 - accuracy: 0.4545\n",
            "Epoch 54/200\n",
            "1/1 [==============================] - 0s 15ms/step - loss: 1.6636 - accuracy: 0.4545\n",
            "Epoch 55/200\n",
            "1/1 [==============================] - 0s 16ms/step - loss: 1.6470 - accuracy: 0.4545\n",
            "Epoch 56/200\n",
            "1/1 [==============================] - 0s 13ms/step - loss: 1.6300 - accuracy: 0.4545\n",
            "Epoch 57/200\n",
            "1/1 [==============================] - 0s 14ms/step - loss: 1.6128 - accuracy: 0.5455\n",
            "Epoch 58/200\n",
            "1/1 [==============================] - 0s 14ms/step - loss: 1.5955 - accuracy: 0.5455\n",
            "Epoch 59/200\n",
            "1/1 [==============================] - 0s 14ms/step - loss: 1.5780 - accuracy: 0.5455\n",
            "Epoch 60/200\n",
            "1/1 [==============================] - 0s 12ms/step - loss: 1.5604 - accuracy: 0.5455\n",
            "Epoch 61/200\n",
            "1/1 [==============================] - 0s 12ms/step - loss: 1.5425 - accuracy: 0.5455\n",
            "Epoch 62/200\n",
            "1/1 [==============================] - 0s 16ms/step - loss: 1.5243 - accuracy: 0.5455\n",
            "Epoch 63/200\n",
            "1/1 [==============================] - 0s 15ms/step - loss: 1.5057 - accuracy: 0.5455\n",
            "Epoch 64/200\n",
            "1/1 [==============================] - 0s 12ms/step - loss: 1.4866 - accuracy: 0.5455\n",
            "Epoch 65/200\n",
            "1/1 [==============================] - 0s 14ms/step - loss: 1.4671 - accuracy: 0.5455\n",
            "Epoch 66/200\n",
            "1/1 [==============================] - 0s 19ms/step - loss: 1.4471 - accuracy: 0.5455\n",
            "Epoch 67/200\n",
            "1/1 [==============================] - 0s 17ms/step - loss: 1.4266 - accuracy: 0.5455\n",
            "Epoch 68/200\n",
            "1/1 [==============================] - 0s 23ms/step - loss: 1.4059 - accuracy: 0.5455\n",
            "Epoch 69/200\n",
            "1/1 [==============================] - 0s 13ms/step - loss: 1.3850 - accuracy: 0.5455\n",
            "Epoch 70/200\n",
            "1/1 [==============================] - 0s 15ms/step - loss: 1.3640 - accuracy: 0.5455\n",
            "Epoch 71/200\n",
            "1/1 [==============================] - 0s 20ms/step - loss: 1.3429 - accuracy: 0.5455\n",
            "Epoch 72/200\n",
            "1/1 [==============================] - 0s 13ms/step - loss: 1.3218 - accuracy: 0.5455\n",
            "Epoch 73/200\n",
            "1/1 [==============================] - 0s 14ms/step - loss: 1.3007 - accuracy: 0.5455\n",
            "Epoch 74/200\n",
            "1/1 [==============================] - 0s 12ms/step - loss: 1.2797 - accuracy: 0.5455\n",
            "Epoch 75/200\n",
            "1/1 [==============================] - 0s 18ms/step - loss: 1.2586 - accuracy: 0.5455\n",
            "Epoch 76/200\n",
            "1/1 [==============================] - 0s 16ms/step - loss: 1.2377 - accuracy: 0.6364\n",
            "Epoch 77/200\n",
            "1/1 [==============================] - 0s 14ms/step - loss: 1.2168 - accuracy: 0.6364\n",
            "Epoch 78/200\n",
            "1/1 [==============================] - 0s 13ms/step - loss: 1.1960 - accuracy: 0.6364\n",
            "Epoch 79/200\n",
            "1/1 [==============================] - 0s 13ms/step - loss: 1.1754 - accuracy: 0.6364\n",
            "Epoch 80/200\n",
            "1/1 [==============================] - 0s 13ms/step - loss: 1.1550 - accuracy: 0.6364\n",
            "Epoch 81/200\n",
            "1/1 [==============================] - 0s 14ms/step - loss: 1.1349 - accuracy: 0.6364\n",
            "Epoch 82/200\n",
            "1/1 [==============================] - 0s 17ms/step - loss: 1.1150 - accuracy: 0.6364\n",
            "Epoch 83/200\n",
            "1/1 [==============================] - 0s 17ms/step - loss: 1.0954 - accuracy: 0.6364\n",
            "Epoch 84/200\n",
            "1/1 [==============================] - 0s 13ms/step - loss: 1.0760 - accuracy: 0.6364\n",
            "Epoch 85/200\n",
            "1/1 [==============================] - 0s 13ms/step - loss: 1.0570 - accuracy: 0.6364\n",
            "Epoch 86/200\n",
            "1/1 [==============================] - 0s 17ms/step - loss: 1.0382 - accuracy: 0.6364\n",
            "Epoch 87/200\n",
            "1/1 [==============================] - 0s 13ms/step - loss: 1.0197 - accuracy: 0.6364\n",
            "Epoch 88/200\n",
            "1/1 [==============================] - 0s 17ms/step - loss: 1.0015 - accuracy: 0.6364\n",
            "Epoch 89/200\n",
            "1/1 [==============================] - 0s 14ms/step - loss: 0.9836 - accuracy: 0.6364\n",
            "Epoch 90/200\n",
            "1/1 [==============================] - 0s 21ms/step - loss: 0.9660 - accuracy: 0.7273\n",
            "Epoch 91/200\n",
            "1/1 [==============================] - 0s 17ms/step - loss: 0.9487 - accuracy: 0.7273\n",
            "Epoch 92/200\n",
            "1/1 [==============================] - 0s 15ms/step - loss: 0.9317 - accuracy: 0.7273\n",
            "Epoch 93/200\n",
            "1/1 [==============================] - 0s 13ms/step - loss: 0.9150 - accuracy: 0.7273\n",
            "Epoch 94/200\n",
            "1/1 [==============================] - 0s 13ms/step - loss: 0.8986 - accuracy: 0.7273\n",
            "Epoch 95/200\n",
            "1/1 [==============================] - 0s 13ms/step - loss: 0.8825 - accuracy: 0.7273\n",
            "Epoch 96/200\n",
            "1/1 [==============================] - 0s 15ms/step - loss: 0.8666 - accuracy: 0.7273\n",
            "Epoch 97/200\n",
            "1/1 [==============================] - 0s 22ms/step - loss: 0.8510 - accuracy: 0.7273\n",
            "Epoch 98/200\n",
            "1/1 [==============================] - 0s 13ms/step - loss: 0.8357 - accuracy: 0.7273\n",
            "Epoch 99/200\n",
            "1/1 [==============================] - 0s 16ms/step - loss: 0.8206 - accuracy: 0.7273\n",
            "Epoch 100/200\n",
            "1/1 [==============================] - 0s 16ms/step - loss: 0.8057 - accuracy: 0.8182\n",
            "Epoch 101/200\n",
            "1/1 [==============================] - 0s 16ms/step - loss: 0.7911 - accuracy: 0.9091\n",
            "Epoch 102/200\n",
            "1/1 [==============================] - 0s 18ms/step - loss: 0.7767 - accuracy: 0.9091\n",
            "Epoch 103/200\n",
            "1/1 [==============================] - 0s 23ms/step - loss: 0.7625 - accuracy: 0.9091\n",
            "Epoch 104/200\n",
            "1/1 [==============================] - 0s 16ms/step - loss: 0.7486 - accuracy: 0.9091\n",
            "Epoch 105/200\n",
            "1/1 [==============================] - 0s 19ms/step - loss: 0.7348 - accuracy: 0.9091\n",
            "Epoch 106/200\n",
            "1/1 [==============================] - 0s 15ms/step - loss: 0.7213 - accuracy: 0.9091\n",
            "Epoch 107/200\n",
            "1/1 [==============================] - 0s 16ms/step - loss: 0.7079 - accuracy: 0.9091\n",
            "Epoch 108/200\n",
            "1/1 [==============================] - 0s 16ms/step - loss: 0.6948 - accuracy: 0.9091\n",
            "Epoch 109/200\n",
            "1/1 [==============================] - 0s 14ms/step - loss: 0.6819 - accuracy: 0.9091\n",
            "Epoch 110/200\n",
            "1/1 [==============================] - 0s 16ms/step - loss: 0.6692 - accuracy: 0.9091\n",
            "Epoch 111/200\n",
            "1/1 [==============================] - 0s 14ms/step - loss: 0.6567 - accuracy: 0.9091\n",
            "Epoch 112/200\n",
            "1/1 [==============================] - 0s 21ms/step - loss: 0.6445 - accuracy: 0.9091\n",
            "Epoch 113/200\n",
            "1/1 [==============================] - 0s 17ms/step - loss: 0.6324 - accuracy: 0.9091\n",
            "Epoch 114/200\n",
            "1/1 [==============================] - 0s 15ms/step - loss: 0.6206 - accuracy: 0.9091\n",
            "Epoch 115/200\n",
            "1/1 [==============================] - 0s 18ms/step - loss: 0.6090 - accuracy: 0.9091\n",
            "Epoch 116/200\n",
            "1/1 [==============================] - 0s 17ms/step - loss: 0.5977 - accuracy: 0.9091\n",
            "Epoch 117/200\n",
            "1/1 [==============================] - 0s 15ms/step - loss: 0.5866 - accuracy: 0.9091\n",
            "Epoch 118/200\n",
            "1/1 [==============================] - 0s 15ms/step - loss: 0.5757 - accuracy: 0.9091\n",
            "Epoch 119/200\n",
            "1/1 [==============================] - 0s 14ms/step - loss: 0.5650 - accuracy: 0.9091\n",
            "Epoch 120/200\n",
            "1/1 [==============================] - 0s 13ms/step - loss: 0.5546 - accuracy: 0.9091\n",
            "Epoch 121/200\n",
            "1/1 [==============================] - 0s 13ms/step - loss: 0.5443 - accuracy: 0.9091\n",
            "Epoch 122/200\n",
            "1/1 [==============================] - 0s 15ms/step - loss: 0.5343 - accuracy: 0.9091\n",
            "Epoch 123/200\n",
            "1/1 [==============================] - 0s 19ms/step - loss: 0.5246 - accuracy: 0.9091\n",
            "Epoch 124/200\n",
            "1/1 [==============================] - 0s 20ms/step - loss: 0.5150 - accuracy: 0.9091\n",
            "Epoch 125/200\n",
            "1/1 [==============================] - 0s 24ms/step - loss: 0.5057 - accuracy: 0.9091\n",
            "Epoch 126/200\n",
            "1/1 [==============================] - 0s 16ms/step - loss: 0.4965 - accuracy: 0.9091\n",
            "Epoch 127/200\n",
            "1/1 [==============================] - 0s 15ms/step - loss: 0.4876 - accuracy: 0.9091\n",
            "Epoch 128/200\n",
            "1/1 [==============================] - 0s 15ms/step - loss: 0.4789 - accuracy: 0.9091\n",
            "Epoch 129/200\n",
            "1/1 [==============================] - 0s 14ms/step - loss: 0.4703 - accuracy: 0.9091\n",
            "Epoch 130/200\n",
            "1/1 [==============================] - 0s 14ms/step - loss: 0.4620 - accuracy: 0.9091\n",
            "Epoch 131/200\n",
            "1/1 [==============================] - 0s 15ms/step - loss: 0.4538 - accuracy: 0.9091\n",
            "Epoch 132/200\n",
            "1/1 [==============================] - 0s 18ms/step - loss: 0.4458 - accuracy: 0.9091\n",
            "Epoch 133/200\n",
            "1/1 [==============================] - 0s 25ms/step - loss: 0.4380 - accuracy: 0.9091\n",
            "Epoch 134/200\n",
            "1/1 [==============================] - 0s 12ms/step - loss: 0.4304 - accuracy: 0.9091\n",
            "Epoch 135/200\n",
            "1/1 [==============================] - 0s 17ms/step - loss: 0.4229 - accuracy: 0.9091\n",
            "Epoch 136/200\n",
            "1/1 [==============================] - 0s 12ms/step - loss: 0.4155 - accuracy: 0.9091\n",
            "Epoch 137/200\n",
            "1/1 [==============================] - 0s 12ms/step - loss: 0.4084 - accuracy: 0.9091\n",
            "Epoch 138/200\n",
            "1/1 [==============================] - 0s 17ms/step - loss: 0.4014 - accuracy: 0.9091\n",
            "Epoch 139/200\n",
            "1/1 [==============================] - 0s 16ms/step - loss: 0.3945 - accuracy: 0.9091\n",
            "Epoch 140/200\n",
            "1/1 [==============================] - 0s 16ms/step - loss: 0.3877 - accuracy: 0.9091\n",
            "Epoch 141/200\n",
            "1/1 [==============================] - 0s 19ms/step - loss: 0.3811 - accuracy: 0.9091\n",
            "Epoch 142/200\n",
            "1/1 [==============================] - 0s 17ms/step - loss: 0.3747 - accuracy: 0.9091\n",
            "Epoch 143/200\n",
            "1/1 [==============================] - 0s 17ms/step - loss: 0.3683 - accuracy: 0.9091\n",
            "Epoch 144/200\n",
            "1/1 [==============================] - 0s 16ms/step - loss: 0.3621 - accuracy: 0.9091\n",
            "Epoch 145/200\n",
            "1/1 [==============================] - 0s 14ms/step - loss: 0.3560 - accuracy: 0.9091\n",
            "Epoch 146/200\n",
            "1/1 [==============================] - 0s 16ms/step - loss: 0.3500 - accuracy: 0.9091\n",
            "Epoch 147/200\n",
            "1/1 [==============================] - 0s 14ms/step - loss: 0.3441 - accuracy: 0.9091\n",
            "Epoch 148/200\n",
            "1/1 [==============================] - 0s 15ms/step - loss: 0.3383 - accuracy: 0.9091\n",
            "Epoch 149/200\n",
            "1/1 [==============================] - 0s 13ms/step - loss: 0.3326 - accuracy: 0.9091\n",
            "Epoch 150/200\n",
            "1/1 [==============================] - 0s 12ms/step - loss: 0.3270 - accuracy: 0.9091\n",
            "Epoch 151/200\n",
            "1/1 [==============================] - 0s 18ms/step - loss: 0.3215 - accuracy: 0.9091\n",
            "Epoch 152/200\n",
            "1/1 [==============================] - 0s 17ms/step - loss: 0.3161 - accuracy: 0.9091\n",
            "Epoch 153/200\n",
            "1/1 [==============================] - 0s 13ms/step - loss: 0.3108 - accuracy: 0.9091\n",
            "Epoch 154/200\n",
            "1/1 [==============================] - 0s 13ms/step - loss: 0.3056 - accuracy: 0.9091\n",
            "Epoch 155/200\n",
            "1/1 [==============================] - 0s 13ms/step - loss: 0.3005 - accuracy: 0.9091\n",
            "Epoch 156/200\n",
            "1/1 [==============================] - 0s 14ms/step - loss: 0.2954 - accuracy: 0.9091\n",
            "Epoch 157/200\n",
            "1/1 [==============================] - 0s 13ms/step - loss: 0.2904 - accuracy: 0.9091\n",
            "Epoch 158/200\n",
            "1/1 [==============================] - 0s 13ms/step - loss: 0.2855 - accuracy: 0.9091\n",
            "Epoch 159/200\n",
            "1/1 [==============================] - 0s 14ms/step - loss: 0.2807 - accuracy: 0.9091\n",
            "Epoch 160/200\n",
            "1/1 [==============================] - 0s 13ms/step - loss: 0.2760 - accuracy: 0.9091\n",
            "Epoch 161/200\n",
            "1/1 [==============================] - 0s 13ms/step - loss: 0.2713 - accuracy: 0.9091\n",
            "Epoch 162/200\n",
            "1/1 [==============================] - 0s 13ms/step - loss: 0.2667 - accuracy: 0.9091\n",
            "Epoch 163/200\n",
            "1/1 [==============================] - 0s 21ms/step - loss: 0.2622 - accuracy: 0.9091\n",
            "Epoch 164/200\n",
            "1/1 [==============================] - 0s 19ms/step - loss: 0.2577 - accuracy: 0.9091\n",
            "Epoch 165/200\n",
            "1/1 [==============================] - 0s 17ms/step - loss: 0.2534 - accuracy: 0.9091\n",
            "Epoch 166/200\n",
            "1/1 [==============================] - 0s 14ms/step - loss: 0.2490 - accuracy: 0.9091\n",
            "Epoch 167/200\n",
            "1/1 [==============================] - 0s 14ms/step - loss: 0.2448 - accuracy: 1.0000\n",
            "Epoch 168/200\n",
            "1/1 [==============================] - 0s 15ms/step - loss: 0.2406 - accuracy: 1.0000\n",
            "Epoch 169/200\n",
            "1/1 [==============================] - 0s 15ms/step - loss: 0.2365 - accuracy: 1.0000\n",
            "Epoch 170/200\n",
            "1/1 [==============================] - 0s 14ms/step - loss: 0.2325 - accuracy: 1.0000\n",
            "Epoch 171/200\n",
            "1/1 [==============================] - 0s 13ms/step - loss: 0.2285 - accuracy: 1.0000\n",
            "Epoch 172/200\n",
            "1/1 [==============================] - 0s 13ms/step - loss: 0.2246 - accuracy: 1.0000\n",
            "Epoch 173/200\n",
            "1/1 [==============================] - 0s 13ms/step - loss: 0.2207 - accuracy: 1.0000\n",
            "Epoch 174/200\n",
            "1/1 [==============================] - 0s 19ms/step - loss: 0.2169 - accuracy: 1.0000\n",
            "Epoch 175/200\n",
            "1/1 [==============================] - 0s 15ms/step - loss: 0.2132 - accuracy: 1.0000\n",
            "Epoch 176/200\n",
            "1/1 [==============================] - 0s 18ms/step - loss: 0.2095 - accuracy: 1.0000\n",
            "Epoch 177/200\n",
            "1/1 [==============================] - 0s 18ms/step - loss: 0.2059 - accuracy: 1.0000\n",
            "Epoch 178/200\n",
            "1/1 [==============================] - 0s 17ms/step - loss: 0.2024 - accuracy: 1.0000\n",
            "Epoch 179/200\n",
            "1/1 [==============================] - 0s 19ms/step - loss: 0.1989 - accuracy: 1.0000\n",
            "Epoch 180/200\n",
            "1/1 [==============================] - 0s 23ms/step - loss: 0.1954 - accuracy: 1.0000\n",
            "Epoch 181/200\n",
            "1/1 [==============================] - 0s 13ms/step - loss: 0.1921 - accuracy: 1.0000\n",
            "Epoch 182/200\n",
            "1/1 [==============================] - 0s 13ms/step - loss: 0.1888 - accuracy: 1.0000\n",
            "Epoch 183/200\n",
            "1/1 [==============================] - 0s 13ms/step - loss: 0.1855 - accuracy: 1.0000\n",
            "Epoch 184/200\n",
            "1/1 [==============================] - 0s 13ms/step - loss: 0.1823 - accuracy: 1.0000\n",
            "Epoch 185/200\n",
            "1/1 [==============================] - 0s 14ms/step - loss: 0.1792 - accuracy: 1.0000\n",
            "Epoch 186/200\n",
            "1/1 [==============================] - 0s 17ms/step - loss: 0.1761 - accuracy: 1.0000\n",
            "Epoch 187/200\n",
            "1/1 [==============================] - 0s 21ms/step - loss: 0.1730 - accuracy: 1.0000\n",
            "Epoch 188/200\n",
            "1/1 [==============================] - 0s 16ms/step - loss: 0.1701 - accuracy: 1.0000\n",
            "Epoch 189/200\n",
            "1/1 [==============================] - 0s 13ms/step - loss: 0.1671 - accuracy: 1.0000\n",
            "Epoch 190/200\n",
            "1/1 [==============================] - 0s 15ms/step - loss: 0.1643 - accuracy: 1.0000\n",
            "Epoch 191/200\n",
            "1/1 [==============================] - 0s 15ms/step - loss: 0.1615 - accuracy: 1.0000\n",
            "Epoch 192/200\n",
            "1/1 [==============================] - 0s 17ms/step - loss: 0.1587 - accuracy: 1.0000\n",
            "Epoch 193/200\n",
            "1/1 [==============================] - 0s 15ms/step - loss: 0.1560 - accuracy: 1.0000\n",
            "Epoch 194/200\n",
            "1/1 [==============================] - 0s 12ms/step - loss: 0.1533 - accuracy: 1.0000\n",
            "Epoch 195/200\n",
            "1/1 [==============================] - 0s 14ms/step - loss: 0.1507 - accuracy: 1.0000\n",
            "Epoch 196/200\n",
            "1/1 [==============================] - 0s 22ms/step - loss: 0.1481 - accuracy: 1.0000\n",
            "Epoch 197/200\n",
            "1/1 [==============================] - 0s 19ms/step - loss: 0.1456 - accuracy: 1.0000\n",
            "Epoch 198/200\n",
            "1/1 [==============================] - 0s 19ms/step - loss: 0.1432 - accuracy: 1.0000\n",
            "Epoch 199/200\n",
            "1/1 [==============================] - 0s 14ms/step - loss: 0.1407 - accuracy: 1.0000\n",
            "Epoch 200/200\n",
            "1/1 [==============================] - 0s 14ms/step - loss: 0.1384 - accuracy: 1.0000\n"
          ]
        },
        {
          "output_type": "execute_result",
          "data": {
            "text/plain": [
              "<keras.src.callbacks.History at 0x7df904ca5f90>"
            ]
          },
          "metadata": {},
          "execution_count": 11
        }
      ]
    },
    {
      "cell_type": "code",
      "source": [
        "# 학습 모델 사용해서 텍스트 생성기능 만들기\n",
        "# 사용할 모델, 토크나이저, 입력 단어, 생성할 단어 수\n",
        "def make_sentence(model, t, current_word, n):\n",
        "  init_word = current_word # 마지막에 같이 출력하기 위함\n",
        "  sentence = ''\n",
        "  for _ in range(n):\n",
        "    encoded = t.texts_to_sequences([current_word])[0]\n",
        "    print(encoded) # 번호 확인\n",
        "    print(current_word) # 입력 단어 확인\n",
        "    # 데이터를 같은 길이(5)로 맞춰주기\n",
        "    encoded = pad_sequences([encoded], maxlen = max_len - 1)\n",
        "    # 입력한 단어로 예측하기\n",
        "    result = model.predict(encoded, verbose = 0).argmax(axis= -1)\n",
        "    for word, index in t.word_index.items():\n",
        "      if index == result:\n",
        "        break\n",
        "\n",
        "    # 현재단어 + \" \" + 예측단어를 현재 단어로 변경\n",
        "    current_word = current_word + \" \" + word\n",
        "\n",
        "    sentence = sentence + \" \" + word\n",
        "  # 문장 생성\n",
        "  sentence = init_word + sentence\n",
        "\n",
        "  return sentence"
      ],
      "metadata": {
        "id": "Zt8QX9fShMm0"
      },
      "execution_count": null,
      "outputs": []
    },
    {
      "cell_type": "code",
      "source": [
        "# 인공지능 딥러닝 모델, 토큰화 모델\n",
        "# 경마장에 있는 말이 뛰고 있다\n",
        "# 그의 말이 법이다\n",
        "# 가는 말이 고와야 오는 말이 곱다\n",
        "print(make_sentence(model1, t, '경마장에', 4))"
      ],
      "metadata": {
        "colab": {
          "base_uri": "https://localhost:8080/"
        },
        "id": "vtbnrpoMhMj6",
        "outputId": "ba49a2a6-f1fb-429e-adfb-18ab72bc352d"
      },
      "execution_count": null,
      "outputs": [
        {
          "output_type": "stream",
          "name": "stdout",
          "text": [
            "[2]\n",
            "경마장에\n",
            "[2, 3]\n",
            "경마장에 있는\n",
            "[2, 3, 1]\n",
            "경마장에 있는 말이\n",
            "[2, 3, 1, 4]\n",
            "경마장에 있는 말이 뛰고\n",
            "경마장에 있는 말이 뛰고 있다\n"
          ]
        }
      ]
    },
    {
      "cell_type": "code",
      "source": [
        "print(make_sentence(model1, t, '가는', 5))"
      ],
      "metadata": {
        "colab": {
          "base_uri": "https://localhost:8080/"
        },
        "id": "YEuhHMlvhMg7",
        "outputId": "aa8f74eb-e824-4107-8ac4-16543a60f0ad"
      },
      "execution_count": null,
      "outputs": [
        {
          "output_type": "stream",
          "name": "stdout",
          "text": [
            "[8]\n",
            "가는\n",
            "[8, 1]\n",
            "가는 말이\n",
            "[8, 1, 9]\n",
            "가는 말이 고와야\n",
            "[8, 1, 9, 10]\n",
            "가는 말이 고와야 오는\n",
            "[8, 1, 9, 10, 1]\n",
            "가는 말이 고와야 오는 말이\n",
            "가는 말이 고와야 오는 말이 곱다\n"
          ]
        }
      ]
    },
    {
      "cell_type": "code",
      "source": [],
      "metadata": {
        "id": "eVbAnmJbhMd4"
      },
      "execution_count": null,
      "outputs": []
    },
    {
      "cell_type": "code",
      "source": [],
      "metadata": {
        "id": "F4-3XRMRhMbD"
      },
      "execution_count": null,
      "outputs": []
    },
    {
      "cell_type": "code",
      "source": [],
      "metadata": {
        "id": "aeX9L0xGhMYp"
      },
      "execution_count": null,
      "outputs": []
    }
  ]
}