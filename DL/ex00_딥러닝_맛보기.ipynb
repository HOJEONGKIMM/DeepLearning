{
  "nbformat": 4,
  "nbformat_minor": 0,
  "metadata": {
    "colab": {
      "provenance": []
    },
    "kernelspec": {
      "name": "python3",
      "display_name": "Python 3"
    },
    "language_info": {
      "name": "python"
    }
  },
  "cells": [
    {
      "cell_type": "markdown",
      "source": [
        "### 단축키 사용법\n",
        "- 실행 단축키\n",
        " - ctrl + Enter : 실행 후 커서가 그대로 위치\n",
        " - shift + Enter : 실행 후 커서를 아래 셀로 이동\n",
        " - alt + Enter : 실행 후 아래 셀 생성하고 아래로 이동\n",
        "- 마크다운 변환 (코드 -> 텍스트)\n",
        " - ctrl + m + m\n",
        "\n",
        "- 코드모드로 변환 (텍스트 -> 코드)\n",
        " - ctrl + m + y\n",
        "\n",
        "- 셀 아래에 추가하기\n",
        " - ctrl + m + b\n",
        "\n",
        "- 셀 위에 셀 추가하기\n",
        " - ctrl + m + a\n"
      ],
      "metadata": {
        "id": "b5Yj0JD1gXG-"
      }
    },
    {
      "cell_type": "markdown",
      "source": [
        "### 딥러닝 맛보기\n",
        "- 딥러닝이란?\n",
        " - 인간의 신경망을 모방하여 학습하고 예측하는 기술\n",
        " - 대량의 데이터에서 복잡한 패턴이나 규칙을 찾아내는 능력이 뛰어남\n",
        " - 머신러닝에 비해 조금더 유연한 사고를 함.\n",
        " - 인간의 뉴런 == 딥러닝의 선형모델\n",
        " - 주로 영상, 음성, 이미지 처리에 사용이 됨.\n",
        "\n",
        "- tensorflow\n",
        " - 구글이 만든 딥러닝을 위한 라이브러리\n",
        "\n",
        "- keras\n",
        " - tensorflow 위에서 동작하는 라이브러리로 사용자 친화적 라이브러리\n"
      ],
      "metadata": {
        "id": "Ix7OYFssekfM"
      }
    },
    {
      "cell_type": "code",
      "source": [
        "# tensorflow 버전 확인\n",
        "import tensorflow as tf\n",
        "print(tf.__version__)\n",
        "\n",
        "# 2.13.0\n",
        "# 설치버전 확인 이유 : 프로젝트 진행시 오픈소스 가져다 쓸 때 충돌방지"
      ],
      "metadata": {
        "colab": {
          "base_uri": "https://localhost:8080/"
        },
        "id": "oRLk0-pohhpW",
        "outputId": "c5642135-cc59-4c22-bb06-f782b6c5555e"
      },
      "execution_count": null,
      "outputs": [
        {
          "output_type": "stream",
          "name": "stdout",
          "text": [
            "2.13.0\n"
          ]
        }
      ]
    },
    {
      "cell_type": "code",
      "source": [
        "# 리눅스 기반의 코랩 (리눅스 명령어 그대로 사용 가능)\n",
        "# 리눅스 명령어를 사용하여 현재 작업 디렉토리 확인\n",
        "!pwd # printt work directory"
      ],
      "metadata": {
        "colab": {
          "base_uri": "https://localhost:8080/"
        },
        "id": "tg_XqU8jijr8",
        "outputId": "d03992a5-1a16-45ba-a5f1-af8015baff34"
      },
      "execution_count": null,
      "outputs": [
        {
          "output_type": "stream",
          "name": "stdout",
          "text": [
            "/content\n"
          ]
        }
      ]
    },
    {
      "cell_type": "code",
      "source": [
        "# 현재 작업하고 있는 디렉토리의 파일 목록 조회\n",
        "!ls"
      ],
      "metadata": {
        "id": "pkU7Qt-AikR3",
        "colab": {
          "base_uri": "https://localhost:8080/"
        },
        "outputId": "b7c5e090-09bc-468e-fbe2-4de74d807604"
      },
      "execution_count": null,
      "outputs": [
        {
          "output_type": "stream",
          "name": "stdout",
          "text": [
            "drive  sample_data\n"
          ]
        }
      ]
    },
    {
      "cell_type": "code",
      "source": [
        "# 작업 디렉토리 변경\n",
        "# %cd (change directory) - %는 영구적인걸 의미\n",
        "%cd \"/content/drive/MyDrive/Colab Notebooks/DeepLearning\""
      ],
      "metadata": {
        "id": "9pyrxAMYikZU",
        "colab": {
          "base_uri": "https://localhost:8080/"
        },
        "outputId": "d2df69a3-39e0-4a38-976a-3b8ad3276d4d"
      },
      "execution_count": null,
      "outputs": [
        {
          "output_type": "stream",
          "name": "stdout",
          "text": [
            "/content/drive/MyDrive/Colab Notebooks/DeepLearning\n"
          ]
        }
      ]
    },
    {
      "cell_type": "code",
      "source": [
        "# 다시 현재 폴더의 경로 확인\n",
        "!pwd"
      ],
      "metadata": {
        "id": "E9bjepGaikd_",
        "colab": {
          "base_uri": "https://localhost:8080/"
        },
        "outputId": "8607b81c-4ddd-4f5e-802a-88da3bed30b8"
      },
      "execution_count": null,
      "outputs": [
        {
          "output_type": "stream",
          "name": "stdout",
          "text": [
            "/content/drive/MyDrive/Colab Notebooks/DeepLearning\n"
          ]
        }
      ]
    },
    {
      "cell_type": "markdown",
      "source": [
        "### 목표\n",
        "- 공부시간에 따른 수학성적을 예측하는 회귀모델을 만들어보자\n",
        "- keras 활용해서 신경망 구성하는 방법을 연습해보자"
      ],
      "metadata": {
        "id": "oQ-zhlP6ilqX"
      }
    },
    {
      "cell_type": "code",
      "source": [
        "import pandas as pd\n",
        "import numpy as np\n",
        "import matplotlib.pyplot as plt"
      ],
      "metadata": {
        "id": "BUjFKa40il2F"
      },
      "execution_count": null,
      "outputs": []
    },
    {
      "cell_type": "code",
      "source": [
        "# 데이터 불러오기\n",
        "data = pd.read_csv(\"./data/student-mat.csv\",delimiter=\";\")\n",
        "data"
      ],
      "metadata": {
        "id": "UP7AaGzjil9f",
        "colab": {
          "base_uri": "https://localhost:8080/",
          "height": 423
        },
        "outputId": "6ed8d1ac-d2ab-4aea-9d60-cf09ea52bdea"
      },
      "execution_count": null,
      "outputs": [
        {
          "output_type": "execute_result",
          "data": {
            "text/plain": [
              "    school sex  age address famsize Pstatus  Medu  Fedu      Mjob      Fjob  \\\n",
              "0       GP   F   18       U     GT3       A     4     4   at_home   teacher   \n",
              "1       GP   F   17       U     GT3       T     1     1   at_home     other   \n",
              "2       GP   F   15       U     LE3       T     1     1   at_home     other   \n",
              "3       GP   F   15       U     GT3       T     4     2    health  services   \n",
              "4       GP   F   16       U     GT3       T     3     3     other     other   \n",
              "..     ...  ..  ...     ...     ...     ...   ...   ...       ...       ...   \n",
              "390     MS   M   20       U     LE3       A     2     2  services  services   \n",
              "391     MS   M   17       U     LE3       T     3     1  services  services   \n",
              "392     MS   M   21       R     GT3       T     1     1     other     other   \n",
              "393     MS   M   18       R     LE3       T     3     2  services     other   \n",
              "394     MS   M   19       U     LE3       T     1     1     other   at_home   \n",
              "\n",
              "     ... famrel freetime  goout  Dalc  Walc health absences  G1  G2  G3  \n",
              "0    ...      4        3      4     1     1      3        6   5   6   6  \n",
              "1    ...      5        3      3     1     1      3        4   5   5   6  \n",
              "2    ...      4        3      2     2     3      3       10   7   8  10  \n",
              "3    ...      3        2      2     1     1      5        2  15  14  15  \n",
              "4    ...      4        3      2     1     2      5        4   6  10  10  \n",
              "..   ...    ...      ...    ...   ...   ...    ...      ...  ..  ..  ..  \n",
              "390  ...      5        5      4     4     5      4       11   9   9   9  \n",
              "391  ...      2        4      5     3     4      2        3  14  16  16  \n",
              "392  ...      5        5      3     3     3      3        3  10   8   7  \n",
              "393  ...      4        4      1     3     4      5        0  11  12  10  \n",
              "394  ...      3        2      3     3     3      5        5   8   9   9  \n",
              "\n",
              "[395 rows x 33 columns]"
            ],
            "text/html": [
              "\n",
              "  <div id=\"df-29ee4fbb-a0ee-4f61-832c-1e0b07e6e13f\" class=\"colab-df-container\">\n",
              "    <div>\n",
              "<style scoped>\n",
              "    .dataframe tbody tr th:only-of-type {\n",
              "        vertical-align: middle;\n",
              "    }\n",
              "\n",
              "    .dataframe tbody tr th {\n",
              "        vertical-align: top;\n",
              "    }\n",
              "\n",
              "    .dataframe thead th {\n",
              "        text-align: right;\n",
              "    }\n",
              "</style>\n",
              "<table border=\"1\" class=\"dataframe\">\n",
              "  <thead>\n",
              "    <tr style=\"text-align: right;\">\n",
              "      <th></th>\n",
              "      <th>school</th>\n",
              "      <th>sex</th>\n",
              "      <th>age</th>\n",
              "      <th>address</th>\n",
              "      <th>famsize</th>\n",
              "      <th>Pstatus</th>\n",
              "      <th>Medu</th>\n",
              "      <th>Fedu</th>\n",
              "      <th>Mjob</th>\n",
              "      <th>Fjob</th>\n",
              "      <th>...</th>\n",
              "      <th>famrel</th>\n",
              "      <th>freetime</th>\n",
              "      <th>goout</th>\n",
              "      <th>Dalc</th>\n",
              "      <th>Walc</th>\n",
              "      <th>health</th>\n",
              "      <th>absences</th>\n",
              "      <th>G1</th>\n",
              "      <th>G2</th>\n",
              "      <th>G3</th>\n",
              "    </tr>\n",
              "  </thead>\n",
              "  <tbody>\n",
              "    <tr>\n",
              "      <th>0</th>\n",
              "      <td>GP</td>\n",
              "      <td>F</td>\n",
              "      <td>18</td>\n",
              "      <td>U</td>\n",
              "      <td>GT3</td>\n",
              "      <td>A</td>\n",
              "      <td>4</td>\n",
              "      <td>4</td>\n",
              "      <td>at_home</td>\n",
              "      <td>teacher</td>\n",
              "      <td>...</td>\n",
              "      <td>4</td>\n",
              "      <td>3</td>\n",
              "      <td>4</td>\n",
              "      <td>1</td>\n",
              "      <td>1</td>\n",
              "      <td>3</td>\n",
              "      <td>6</td>\n",
              "      <td>5</td>\n",
              "      <td>6</td>\n",
              "      <td>6</td>\n",
              "    </tr>\n",
              "    <tr>\n",
              "      <th>1</th>\n",
              "      <td>GP</td>\n",
              "      <td>F</td>\n",
              "      <td>17</td>\n",
              "      <td>U</td>\n",
              "      <td>GT3</td>\n",
              "      <td>T</td>\n",
              "      <td>1</td>\n",
              "      <td>1</td>\n",
              "      <td>at_home</td>\n",
              "      <td>other</td>\n",
              "      <td>...</td>\n",
              "      <td>5</td>\n",
              "      <td>3</td>\n",
              "      <td>3</td>\n",
              "      <td>1</td>\n",
              "      <td>1</td>\n",
              "      <td>3</td>\n",
              "      <td>4</td>\n",
              "      <td>5</td>\n",
              "      <td>5</td>\n",
              "      <td>6</td>\n",
              "    </tr>\n",
              "    <tr>\n",
              "      <th>2</th>\n",
              "      <td>GP</td>\n",
              "      <td>F</td>\n",
              "      <td>15</td>\n",
              "      <td>U</td>\n",
              "      <td>LE3</td>\n",
              "      <td>T</td>\n",
              "      <td>1</td>\n",
              "      <td>1</td>\n",
              "      <td>at_home</td>\n",
              "      <td>other</td>\n",
              "      <td>...</td>\n",
              "      <td>4</td>\n",
              "      <td>3</td>\n",
              "      <td>2</td>\n",
              "      <td>2</td>\n",
              "      <td>3</td>\n",
              "      <td>3</td>\n",
              "      <td>10</td>\n",
              "      <td>7</td>\n",
              "      <td>8</td>\n",
              "      <td>10</td>\n",
              "    </tr>\n",
              "    <tr>\n",
              "      <th>3</th>\n",
              "      <td>GP</td>\n",
              "      <td>F</td>\n",
              "      <td>15</td>\n",
              "      <td>U</td>\n",
              "      <td>GT3</td>\n",
              "      <td>T</td>\n",
              "      <td>4</td>\n",
              "      <td>2</td>\n",
              "      <td>health</td>\n",
              "      <td>services</td>\n",
              "      <td>...</td>\n",
              "      <td>3</td>\n",
              "      <td>2</td>\n",
              "      <td>2</td>\n",
              "      <td>1</td>\n",
              "      <td>1</td>\n",
              "      <td>5</td>\n",
              "      <td>2</td>\n",
              "      <td>15</td>\n",
              "      <td>14</td>\n",
              "      <td>15</td>\n",
              "    </tr>\n",
              "    <tr>\n",
              "      <th>4</th>\n",
              "      <td>GP</td>\n",
              "      <td>F</td>\n",
              "      <td>16</td>\n",
              "      <td>U</td>\n",
              "      <td>GT3</td>\n",
              "      <td>T</td>\n",
              "      <td>3</td>\n",
              "      <td>3</td>\n",
              "      <td>other</td>\n",
              "      <td>other</td>\n",
              "      <td>...</td>\n",
              "      <td>4</td>\n",
              "      <td>3</td>\n",
              "      <td>2</td>\n",
              "      <td>1</td>\n",
              "      <td>2</td>\n",
              "      <td>5</td>\n",
              "      <td>4</td>\n",
              "      <td>6</td>\n",
              "      <td>10</td>\n",
              "      <td>10</td>\n",
              "    </tr>\n",
              "    <tr>\n",
              "      <th>...</th>\n",
              "      <td>...</td>\n",
              "      <td>...</td>\n",
              "      <td>...</td>\n",
              "      <td>...</td>\n",
              "      <td>...</td>\n",
              "      <td>...</td>\n",
              "      <td>...</td>\n",
              "      <td>...</td>\n",
              "      <td>...</td>\n",
              "      <td>...</td>\n",
              "      <td>...</td>\n",
              "      <td>...</td>\n",
              "      <td>...</td>\n",
              "      <td>...</td>\n",
              "      <td>...</td>\n",
              "      <td>...</td>\n",
              "      <td>...</td>\n",
              "      <td>...</td>\n",
              "      <td>...</td>\n",
              "      <td>...</td>\n",
              "      <td>...</td>\n",
              "    </tr>\n",
              "    <tr>\n",
              "      <th>390</th>\n",
              "      <td>MS</td>\n",
              "      <td>M</td>\n",
              "      <td>20</td>\n",
              "      <td>U</td>\n",
              "      <td>LE3</td>\n",
              "      <td>A</td>\n",
              "      <td>2</td>\n",
              "      <td>2</td>\n",
              "      <td>services</td>\n",
              "      <td>services</td>\n",
              "      <td>...</td>\n",
              "      <td>5</td>\n",
              "      <td>5</td>\n",
              "      <td>4</td>\n",
              "      <td>4</td>\n",
              "      <td>5</td>\n",
              "      <td>4</td>\n",
              "      <td>11</td>\n",
              "      <td>9</td>\n",
              "      <td>9</td>\n",
              "      <td>9</td>\n",
              "    </tr>\n",
              "    <tr>\n",
              "      <th>391</th>\n",
              "      <td>MS</td>\n",
              "      <td>M</td>\n",
              "      <td>17</td>\n",
              "      <td>U</td>\n",
              "      <td>LE3</td>\n",
              "      <td>T</td>\n",
              "      <td>3</td>\n",
              "      <td>1</td>\n",
              "      <td>services</td>\n",
              "      <td>services</td>\n",
              "      <td>...</td>\n",
              "      <td>2</td>\n",
              "      <td>4</td>\n",
              "      <td>5</td>\n",
              "      <td>3</td>\n",
              "      <td>4</td>\n",
              "      <td>2</td>\n",
              "      <td>3</td>\n",
              "      <td>14</td>\n",
              "      <td>16</td>\n",
              "      <td>16</td>\n",
              "    </tr>\n",
              "    <tr>\n",
              "      <th>392</th>\n",
              "      <td>MS</td>\n",
              "      <td>M</td>\n",
              "      <td>21</td>\n",
              "      <td>R</td>\n",
              "      <td>GT3</td>\n",
              "      <td>T</td>\n",
              "      <td>1</td>\n",
              "      <td>1</td>\n",
              "      <td>other</td>\n",
              "      <td>other</td>\n",
              "      <td>...</td>\n",
              "      <td>5</td>\n",
              "      <td>5</td>\n",
              "      <td>3</td>\n",
              "      <td>3</td>\n",
              "      <td>3</td>\n",
              "      <td>3</td>\n",
              "      <td>3</td>\n",
              "      <td>10</td>\n",
              "      <td>8</td>\n",
              "      <td>7</td>\n",
              "    </tr>\n",
              "    <tr>\n",
              "      <th>393</th>\n",
              "      <td>MS</td>\n",
              "      <td>M</td>\n",
              "      <td>18</td>\n",
              "      <td>R</td>\n",
              "      <td>LE3</td>\n",
              "      <td>T</td>\n",
              "      <td>3</td>\n",
              "      <td>2</td>\n",
              "      <td>services</td>\n",
              "      <td>other</td>\n",
              "      <td>...</td>\n",
              "      <td>4</td>\n",
              "      <td>4</td>\n",
              "      <td>1</td>\n",
              "      <td>3</td>\n",
              "      <td>4</td>\n",
              "      <td>5</td>\n",
              "      <td>0</td>\n",
              "      <td>11</td>\n",
              "      <td>12</td>\n",
              "      <td>10</td>\n",
              "    </tr>\n",
              "    <tr>\n",
              "      <th>394</th>\n",
              "      <td>MS</td>\n",
              "      <td>M</td>\n",
              "      <td>19</td>\n",
              "      <td>U</td>\n",
              "      <td>LE3</td>\n",
              "      <td>T</td>\n",
              "      <td>1</td>\n",
              "      <td>1</td>\n",
              "      <td>other</td>\n",
              "      <td>at_home</td>\n",
              "      <td>...</td>\n",
              "      <td>3</td>\n",
              "      <td>2</td>\n",
              "      <td>3</td>\n",
              "      <td>3</td>\n",
              "      <td>3</td>\n",
              "      <td>5</td>\n",
              "      <td>5</td>\n",
              "      <td>8</td>\n",
              "      <td>9</td>\n",
              "      <td>9</td>\n",
              "    </tr>\n",
              "  </tbody>\n",
              "</table>\n",
              "<p>395 rows × 33 columns</p>\n",
              "</div>\n",
              "    <div class=\"colab-df-buttons\">\n",
              "\n",
              "  <div class=\"colab-df-container\">\n",
              "    <button class=\"colab-df-convert\" onclick=\"convertToInteractive('df-29ee4fbb-a0ee-4f61-832c-1e0b07e6e13f')\"\n",
              "            title=\"Convert this dataframe to an interactive table.\"\n",
              "            style=\"display:none;\">\n",
              "\n",
              "  <svg xmlns=\"http://www.w3.org/2000/svg\" height=\"24px\" viewBox=\"0 -960 960 960\">\n",
              "    <path d=\"M120-120v-720h720v720H120Zm60-500h600v-160H180v160Zm220 220h160v-160H400v160Zm0 220h160v-160H400v160ZM180-400h160v-160H180v160Zm440 0h160v-160H620v160ZM180-180h160v-160H180v160Zm440 0h160v-160H620v160Z\"/>\n",
              "  </svg>\n",
              "    </button>\n",
              "\n",
              "  <style>\n",
              "    .colab-df-container {\n",
              "      display:flex;\n",
              "      gap: 12px;\n",
              "    }\n",
              "\n",
              "    .colab-df-convert {\n",
              "      background-color: #E8F0FE;\n",
              "      border: none;\n",
              "      border-radius: 50%;\n",
              "      cursor: pointer;\n",
              "      display: none;\n",
              "      fill: #1967D2;\n",
              "      height: 32px;\n",
              "      padding: 0 0 0 0;\n",
              "      width: 32px;\n",
              "    }\n",
              "\n",
              "    .colab-df-convert:hover {\n",
              "      background-color: #E2EBFA;\n",
              "      box-shadow: 0px 1px 2px rgba(60, 64, 67, 0.3), 0px 1px 3px 1px rgba(60, 64, 67, 0.15);\n",
              "      fill: #174EA6;\n",
              "    }\n",
              "\n",
              "    .colab-df-buttons div {\n",
              "      margin-bottom: 4px;\n",
              "    }\n",
              "\n",
              "    [theme=dark] .colab-df-convert {\n",
              "      background-color: #3B4455;\n",
              "      fill: #D2E3FC;\n",
              "    }\n",
              "\n",
              "    [theme=dark] .colab-df-convert:hover {\n",
              "      background-color: #434B5C;\n",
              "      box-shadow: 0px 1px 3px 1px rgba(0, 0, 0, 0.15);\n",
              "      filter: drop-shadow(0px 1px 2px rgba(0, 0, 0, 0.3));\n",
              "      fill: #FFFFFF;\n",
              "    }\n",
              "  </style>\n",
              "\n",
              "    <script>\n",
              "      const buttonEl =\n",
              "        document.querySelector('#df-29ee4fbb-a0ee-4f61-832c-1e0b07e6e13f button.colab-df-convert');\n",
              "      buttonEl.style.display =\n",
              "        google.colab.kernel.accessAllowed ? 'block' : 'none';\n",
              "\n",
              "      async function convertToInteractive(key) {\n",
              "        const element = document.querySelector('#df-29ee4fbb-a0ee-4f61-832c-1e0b07e6e13f');\n",
              "        const dataTable =\n",
              "          await google.colab.kernel.invokeFunction('convertToInteractive',\n",
              "                                                    [key], {});\n",
              "        if (!dataTable) return;\n",
              "\n",
              "        const docLinkHtml = 'Like what you see? Visit the ' +\n",
              "          '<a target=\"_blank\" href=https://colab.research.google.com/notebooks/data_table.ipynb>data table notebook</a>'\n",
              "          + ' to learn more about interactive tables.';\n",
              "        element.innerHTML = '';\n",
              "        dataTable['output_type'] = 'display_data';\n",
              "        await google.colab.output.renderOutput(dataTable, element);\n",
              "        const docLink = document.createElement('div');\n",
              "        docLink.innerHTML = docLinkHtml;\n",
              "        element.appendChild(docLink);\n",
              "      }\n",
              "    </script>\n",
              "  </div>\n",
              "\n",
              "\n",
              "<div id=\"df-1dfe80fa-62a9-4c5b-b03e-703bc2373876\">\n",
              "  <button class=\"colab-df-quickchart\" onclick=\"quickchart('df-1dfe80fa-62a9-4c5b-b03e-703bc2373876')\"\n",
              "            title=\"Suggest charts.\"\n",
              "            style=\"display:none;\">\n",
              "\n",
              "<svg xmlns=\"http://www.w3.org/2000/svg\" height=\"24px\"viewBox=\"0 0 24 24\"\n",
              "     width=\"24px\">\n",
              "    <g>\n",
              "        <path d=\"M19 3H5c-1.1 0-2 .9-2 2v14c0 1.1.9 2 2 2h14c1.1 0 2-.9 2-2V5c0-1.1-.9-2-2-2zM9 17H7v-7h2v7zm4 0h-2V7h2v10zm4 0h-2v-4h2v4z\"/>\n",
              "    </g>\n",
              "</svg>\n",
              "  </button>\n",
              "\n",
              "<style>\n",
              "  .colab-df-quickchart {\n",
              "      --bg-color: #E8F0FE;\n",
              "      --fill-color: #1967D2;\n",
              "      --hover-bg-color: #E2EBFA;\n",
              "      --hover-fill-color: #174EA6;\n",
              "      --disabled-fill-color: #AAA;\n",
              "      --disabled-bg-color: #DDD;\n",
              "  }\n",
              "\n",
              "  [theme=dark] .colab-df-quickchart {\n",
              "      --bg-color: #3B4455;\n",
              "      --fill-color: #D2E3FC;\n",
              "      --hover-bg-color: #434B5C;\n",
              "      --hover-fill-color: #FFFFFF;\n",
              "      --disabled-bg-color: #3B4455;\n",
              "      --disabled-fill-color: #666;\n",
              "  }\n",
              "\n",
              "  .colab-df-quickchart {\n",
              "    background-color: var(--bg-color);\n",
              "    border: none;\n",
              "    border-radius: 50%;\n",
              "    cursor: pointer;\n",
              "    display: none;\n",
              "    fill: var(--fill-color);\n",
              "    height: 32px;\n",
              "    padding: 0;\n",
              "    width: 32px;\n",
              "  }\n",
              "\n",
              "  .colab-df-quickchart:hover {\n",
              "    background-color: var(--hover-bg-color);\n",
              "    box-shadow: 0 1px 2px rgba(60, 64, 67, 0.3), 0 1px 3px 1px rgba(60, 64, 67, 0.15);\n",
              "    fill: var(--button-hover-fill-color);\n",
              "  }\n",
              "\n",
              "  .colab-df-quickchart-complete:disabled,\n",
              "  .colab-df-quickchart-complete:disabled:hover {\n",
              "    background-color: var(--disabled-bg-color);\n",
              "    fill: var(--disabled-fill-color);\n",
              "    box-shadow: none;\n",
              "  }\n",
              "\n",
              "  .colab-df-spinner {\n",
              "    border: 2px solid var(--fill-color);\n",
              "    border-color: transparent;\n",
              "    border-bottom-color: var(--fill-color);\n",
              "    animation:\n",
              "      spin 1s steps(1) infinite;\n",
              "  }\n",
              "\n",
              "  @keyframes spin {\n",
              "    0% {\n",
              "      border-color: transparent;\n",
              "      border-bottom-color: var(--fill-color);\n",
              "      border-left-color: var(--fill-color);\n",
              "    }\n",
              "    20% {\n",
              "      border-color: transparent;\n",
              "      border-left-color: var(--fill-color);\n",
              "      border-top-color: var(--fill-color);\n",
              "    }\n",
              "    30% {\n",
              "      border-color: transparent;\n",
              "      border-left-color: var(--fill-color);\n",
              "      border-top-color: var(--fill-color);\n",
              "      border-right-color: var(--fill-color);\n",
              "    }\n",
              "    40% {\n",
              "      border-color: transparent;\n",
              "      border-right-color: var(--fill-color);\n",
              "      border-top-color: var(--fill-color);\n",
              "    }\n",
              "    60% {\n",
              "      border-color: transparent;\n",
              "      border-right-color: var(--fill-color);\n",
              "    }\n",
              "    80% {\n",
              "      border-color: transparent;\n",
              "      border-right-color: var(--fill-color);\n",
              "      border-bottom-color: var(--fill-color);\n",
              "    }\n",
              "    90% {\n",
              "      border-color: transparent;\n",
              "      border-bottom-color: var(--fill-color);\n",
              "    }\n",
              "  }\n",
              "</style>\n",
              "\n",
              "  <script>\n",
              "    async function quickchart(key) {\n",
              "      const quickchartButtonEl =\n",
              "        document.querySelector('#' + key + ' button');\n",
              "      quickchartButtonEl.disabled = true;  // To prevent multiple clicks.\n",
              "      quickchartButtonEl.classList.add('colab-df-spinner');\n",
              "      try {\n",
              "        const charts = await google.colab.kernel.invokeFunction(\n",
              "            'suggestCharts', [key], {});\n",
              "      } catch (error) {\n",
              "        console.error('Error during call to suggestCharts:', error);\n",
              "      }\n",
              "      quickchartButtonEl.classList.remove('colab-df-spinner');\n",
              "      quickchartButtonEl.classList.add('colab-df-quickchart-complete');\n",
              "    }\n",
              "    (() => {\n",
              "      let quickchartButtonEl =\n",
              "        document.querySelector('#df-1dfe80fa-62a9-4c5b-b03e-703bc2373876 button');\n",
              "      quickchartButtonEl.style.display =\n",
              "        google.colab.kernel.accessAllowed ? 'block' : 'none';\n",
              "    })();\n",
              "  </script>\n",
              "</div>\n",
              "    </div>\n",
              "  </div>\n"
            ]
          },
          "metadata": {},
          "execution_count": 14
        }
      ]
    },
    {
      "cell_type": "code",
      "source": [
        "# 데이터 정보확인\n",
        "data.info()"
      ],
      "metadata": {
        "id": "mLO1oGMHmoAD",
        "colab": {
          "base_uri": "https://localhost:8080/"
        },
        "outputId": "d7e37d6b-514b-4018-b3a4-03af3e224fcb"
      },
      "execution_count": null,
      "outputs": [
        {
          "output_type": "stream",
          "name": "stdout",
          "text": [
            "<class 'pandas.core.frame.DataFrame'>\n",
            "RangeIndex: 395 entries, 0 to 394\n",
            "Data columns (total 33 columns):\n",
            " #   Column      Non-Null Count  Dtype \n",
            "---  ------      --------------  ----- \n",
            " 0   school      395 non-null    object\n",
            " 1   sex         395 non-null    object\n",
            " 2   age         395 non-null    int64 \n",
            " 3   address     395 non-null    object\n",
            " 4   famsize     395 non-null    object\n",
            " 5   Pstatus     395 non-null    object\n",
            " 6   Medu        395 non-null    int64 \n",
            " 7   Fedu        395 non-null    int64 \n",
            " 8   Mjob        395 non-null    object\n",
            " 9   Fjob        395 non-null    object\n",
            " 10  reason      395 non-null    object\n",
            " 11  guardian    395 non-null    object\n",
            " 12  traveltime  395 non-null    int64 \n",
            " 13  studytime   395 non-null    int64 \n",
            " 14  failures    395 non-null    int64 \n",
            " 15  schoolsup   395 non-null    object\n",
            " 16  famsup      395 non-null    object\n",
            " 17  paid        395 non-null    object\n",
            " 18  activities  395 non-null    object\n",
            " 19  nursery     395 non-null    object\n",
            " 20  higher      395 non-null    object\n",
            " 21  internet    395 non-null    object\n",
            " 22  romantic    395 non-null    object\n",
            " 23  famrel      395 non-null    int64 \n",
            " 24  freetime    395 non-null    int64 \n",
            " 25  goout       395 non-null    int64 \n",
            " 26  Dalc        395 non-null    int64 \n",
            " 27  Walc        395 non-null    int64 \n",
            " 28  health      395 non-null    int64 \n",
            " 29  absences    395 non-null    int64 \n",
            " 30  G1          395 non-null    int64 \n",
            " 31  G2          395 non-null    int64 \n",
            " 32  G3          395 non-null    int64 \n",
            "dtypes: int64(16), object(17)\n",
            "memory usage: 102.0+ KB\n"
          ]
        }
      ]
    },
    {
      "cell_type": "markdown",
      "source": [
        "### 문제와 답으로 분리\n",
        "- 입력특성 : 1개 (studytime)\n",
        "- 정답 : G3"
      ],
      "metadata": {
        "id": "eqsLPHA4mpnv"
      }
    },
    {
      "cell_type": "code",
      "source": [
        "# 문제 데이터 (X)\n",
        "X = data['studytime']\n",
        "# 정답 데이터 (y)\n",
        "y = data['G3']"
      ],
      "metadata": {
        "id": "t36zalmymp1j"
      },
      "execution_count": null,
      "outputs": []
    },
    {
      "cell_type": "code",
      "source": [
        "from sklearn.model_selection import train_test_split"
      ],
      "metadata": {
        "id": "MK7w-8Idmp99"
      },
      "execution_count": null,
      "outputs": []
    },
    {
      "cell_type": "code",
      "source": [
        "# train, test 분리\n",
        "X_train, X_test, y_train, y_test = train_test_split(X, y, random_state=915, test_size=0.2)"
      ],
      "metadata": {
        "id": "3nBzjgn1mqM3"
      },
      "execution_count": null,
      "outputs": []
    },
    {
      "cell_type": "code",
      "source": [
        "# 크기 확인\n",
        "X_train.shape, y_train.shape"
      ],
      "metadata": {
        "id": "ogngP3yJmqXC",
        "colab": {
          "base_uri": "https://localhost:8080/"
        },
        "outputId": "f526ef84-e939-4c14-e366-79fc2ef469ad"
      },
      "execution_count": null,
      "outputs": [
        {
          "output_type": "execute_result",
          "data": {
            "text/plain": [
              "((316,), (316,))"
            ]
          },
          "metadata": {},
          "execution_count": 19
        }
      ]
    },
    {
      "cell_type": "code",
      "source": [
        "X_test.shape, y_test.shape"
      ],
      "metadata": {
        "id": "Gie2HPo3mqgg",
        "colab": {
          "base_uri": "https://localhost:8080/"
        },
        "outputId": "665909c8-3829-4c98-ba24-715f14287da1"
      },
      "execution_count": null,
      "outputs": [
        {
          "output_type": "execute_result",
          "data": {
            "text/plain": [
              "((79,), (79,))"
            ]
          },
          "metadata": {},
          "execution_count": 20
        }
      ]
    },
    {
      "cell_type": "markdown",
      "source": [
        "### 머신러닝 모델과 딥러닝 모델의 차이점\n",
        "- 머신러닝\n",
        " - 완제품 장난감 : 팔정도만 움직일 수 있음(하이퍼 파라미터만 조절이 가능)\n",
        " - 모델 생성(완성된 객체 사용) -> 모델 학습 -> 모델 예측 -> 모델 평가\n",
        "\n",
        "- 딥러닝\n",
        " - 레고블럭 : 다양한 구성이 가능\n",
        " - 모델 생성(몸델을 직접 구성) -> 모델 학습 -> 모델 예측 -> 모델 평가\n"
      ],
      "metadata": {
        "id": "9U7NnegpmqpM"
      }
    },
    {
      "cell_type": "markdown",
      "source": [
        "### 머신러닝 모델링(선형회귀모델)"
      ],
      "metadata": {
        "id": "le1xA_Ckmqxa"
      }
    },
    {
      "cell_type": "code",
      "source": [
        "from sklearn.linear_model import LinearRegression # 선형회귀\n",
        "from sklearn.metrics import mean_squared_error # 회귀 모델의 평가지표 도구"
      ],
      "metadata": {
        "id": "jwAQDznkmq4Y"
      },
      "execution_count": null,
      "outputs": []
    },
    {
      "cell_type": "code",
      "source": [
        "from sklearn import linear_model\n",
        "# 1. 모델 생성\n",
        "linear_model = LinearRegression()\n",
        "\n",
        "# 2. 모델 학습 (학습용 문제, 학습용 정답)\n",
        "linear_model.fit(X_train.values.reshape(-1, 1), y_train)\n",
        "\n",
        "# 3. 모델 예측 (테스트용 문제)\n",
        "linear_pre = linear_model.predict(X_test.values.reshape(-1,1))\n",
        "\n",
        "# 4. 모델 평가 (실제 값, 예측 값)\n",
        "mean_squared_error(y_test,linear_pre)"
      ],
      "metadata": {
        "id": "MOWK2h8xmrAt",
        "colab": {
          "base_uri": "https://localhost:8080/"
        },
        "outputId": "f34b9fc9-22a3-4aa0-d465-ccd7a1d88b0a"
      },
      "execution_count": null,
      "outputs": [
        {
          "output_type": "execute_result",
          "data": {
            "text/plain": [
              "24.058078771701606"
            ]
          },
          "metadata": {},
          "execution_count": 22
        }
      ]
    },
    {
      "cell_type": "code",
      "source": [
        "# 머신러닝 모델은 입력특성을 2차원으로 받는다\n",
        "# 1차원 -> 2차원 변경\n",
        "X_train.values.reshape(316, 1)"
      ],
      "metadata": {
        "id": "Y8bfBZIcmrH_",
        "colab": {
          "base_uri": "https://localhost:8080/"
        },
        "outputId": "ee6f0668-6ba5-4ef4-c47e-11f4544a1478"
      },
      "execution_count": null,
      "outputs": [
        {
          "output_type": "execute_result",
          "data": {
            "text/plain": [
              "array([[1],\n",
              "       [1],\n",
              "       [1],\n",
              "       [2],\n",
              "       [1],\n",
              "       [4],\n",
              "       [1],\n",
              "       [2],\n",
              "       [2],\n",
              "       [1],\n",
              "       [1],\n",
              "       [3],\n",
              "       [2],\n",
              "       [1],\n",
              "       [2],\n",
              "       [2],\n",
              "       [2],\n",
              "       [2],\n",
              "       [2],\n",
              "       [3],\n",
              "       [2],\n",
              "       [1],\n",
              "       [2],\n",
              "       [3],\n",
              "       [4],\n",
              "       [3],\n",
              "       [2],\n",
              "       [1],\n",
              "       [1],\n",
              "       [2],\n",
              "       [2],\n",
              "       [1],\n",
              "       [2],\n",
              "       [2],\n",
              "       [2],\n",
              "       [2],\n",
              "       [1],\n",
              "       [2],\n",
              "       [2],\n",
              "       [2],\n",
              "       [2],\n",
              "       [2],\n",
              "       [1],\n",
              "       [2],\n",
              "       [2],\n",
              "       [2],\n",
              "       [1],\n",
              "       [1],\n",
              "       [4],\n",
              "       [3],\n",
              "       [3],\n",
              "       [2],\n",
              "       [1],\n",
              "       [1],\n",
              "       [2],\n",
              "       [3],\n",
              "       [2],\n",
              "       [2],\n",
              "       [2],\n",
              "       [2],\n",
              "       [1],\n",
              "       [3],\n",
              "       [2],\n",
              "       [2],\n",
              "       [2],\n",
              "       [2],\n",
              "       [1],\n",
              "       [2],\n",
              "       [1],\n",
              "       [3],\n",
              "       [1],\n",
              "       [2],\n",
              "       [1],\n",
              "       [3],\n",
              "       [1],\n",
              "       [4],\n",
              "       [3],\n",
              "       [2],\n",
              "       [2],\n",
              "       [2],\n",
              "       [2],\n",
              "       [1],\n",
              "       [2],\n",
              "       [1],\n",
              "       [2],\n",
              "       [2],\n",
              "       [1],\n",
              "       [2],\n",
              "       [2],\n",
              "       [2],\n",
              "       [2],\n",
              "       [2],\n",
              "       [4],\n",
              "       [2],\n",
              "       [1],\n",
              "       [1],\n",
              "       [1],\n",
              "       [2],\n",
              "       [1],\n",
              "       [1],\n",
              "       [2],\n",
              "       [2],\n",
              "       [4],\n",
              "       [2],\n",
              "       [1],\n",
              "       [2],\n",
              "       [2],\n",
              "       [4],\n",
              "       [2],\n",
              "       [2],\n",
              "       [1],\n",
              "       [2],\n",
              "       [1],\n",
              "       [4],\n",
              "       [1],\n",
              "       [3],\n",
              "       [3],\n",
              "       [2],\n",
              "       [2],\n",
              "       [2],\n",
              "       [2],\n",
              "       [4],\n",
              "       [1],\n",
              "       [2],\n",
              "       [2],\n",
              "       [1],\n",
              "       [4],\n",
              "       [2],\n",
              "       [1],\n",
              "       [1],\n",
              "       [2],\n",
              "       [1],\n",
              "       [2],\n",
              "       [4],\n",
              "       [2],\n",
              "       [1],\n",
              "       [3],\n",
              "       [2],\n",
              "       [1],\n",
              "       [2],\n",
              "       [2],\n",
              "       [2],\n",
              "       [3],\n",
              "       [3],\n",
              "       [3],\n",
              "       [1],\n",
              "       [2],\n",
              "       [1],\n",
              "       [2],\n",
              "       [2],\n",
              "       [2],\n",
              "       [2],\n",
              "       [3],\n",
              "       [2],\n",
              "       [3],\n",
              "       [1],\n",
              "       [3],\n",
              "       [2],\n",
              "       [2],\n",
              "       [1],\n",
              "       [1],\n",
              "       [2],\n",
              "       [2],\n",
              "       [1],\n",
              "       [2],\n",
              "       [1],\n",
              "       [2],\n",
              "       [1],\n",
              "       [1],\n",
              "       [2],\n",
              "       [1],\n",
              "       [3],\n",
              "       [2],\n",
              "       [2],\n",
              "       [4],\n",
              "       [1],\n",
              "       [4],\n",
              "       [1],\n",
              "       [2],\n",
              "       [2],\n",
              "       [3],\n",
              "       [2],\n",
              "       [2],\n",
              "       [1],\n",
              "       [2],\n",
              "       [2],\n",
              "       [1],\n",
              "       [1],\n",
              "       [2],\n",
              "       [2],\n",
              "       [2],\n",
              "       [2],\n",
              "       [2],\n",
              "       [3],\n",
              "       [1],\n",
              "       [1],\n",
              "       [2],\n",
              "       [2],\n",
              "       [2],\n",
              "       [4],\n",
              "       [1],\n",
              "       [3],\n",
              "       [2],\n",
              "       [3],\n",
              "       [3],\n",
              "       [2],\n",
              "       [1],\n",
              "       [2],\n",
              "       [2],\n",
              "       [1],\n",
              "       [4],\n",
              "       [2],\n",
              "       [2],\n",
              "       [2],\n",
              "       [2],\n",
              "       [2],\n",
              "       [2],\n",
              "       [3],\n",
              "       [1],\n",
              "       [3],\n",
              "       [2],\n",
              "       [3],\n",
              "       [1],\n",
              "       [2],\n",
              "       [2],\n",
              "       [3],\n",
              "       [3],\n",
              "       [1],\n",
              "       [3],\n",
              "       [2],\n",
              "       [2],\n",
              "       [3],\n",
              "       [2],\n",
              "       [2],\n",
              "       [3],\n",
              "       [2],\n",
              "       [1],\n",
              "       [1],\n",
              "       [1],\n",
              "       [2],\n",
              "       [2],\n",
              "       [1],\n",
              "       [2],\n",
              "       [4],\n",
              "       [3],\n",
              "       [3],\n",
              "       [2],\n",
              "       [1],\n",
              "       [1],\n",
              "       [2],\n",
              "       [2],\n",
              "       [3],\n",
              "       [1],\n",
              "       [3],\n",
              "       [1],\n",
              "       [1],\n",
              "       [3],\n",
              "       [1],\n",
              "       [2],\n",
              "       [2],\n",
              "       [2],\n",
              "       [1],\n",
              "       [3],\n",
              "       [2],\n",
              "       [3],\n",
              "       [2],\n",
              "       [1],\n",
              "       [2],\n",
              "       [3],\n",
              "       [4],\n",
              "       [1],\n",
              "       [2],\n",
              "       [1],\n",
              "       [2],\n",
              "       [1],\n",
              "       [3],\n",
              "       [1],\n",
              "       [2],\n",
              "       [2],\n",
              "       [1],\n",
              "       [2],\n",
              "       [3],\n",
              "       [2],\n",
              "       [3],\n",
              "       [2],\n",
              "       [1],\n",
              "       [4],\n",
              "       [3],\n",
              "       [2],\n",
              "       [4],\n",
              "       [2],\n",
              "       [1],\n",
              "       [3],\n",
              "       [1],\n",
              "       [3],\n",
              "       [3],\n",
              "       [2],\n",
              "       [2],\n",
              "       [3],\n",
              "       [2],\n",
              "       [2],\n",
              "       [3],\n",
              "       [2],\n",
              "       [1],\n",
              "       [4],\n",
              "       [2],\n",
              "       [2],\n",
              "       [2],\n",
              "       [2],\n",
              "       [2],\n",
              "       [2],\n",
              "       [1],\n",
              "       [4],\n",
              "       [3],\n",
              "       [2],\n",
              "       [1]])"
            ]
          },
          "metadata": {},
          "execution_count": 23
        }
      ]
    },
    {
      "cell_type": "markdown",
      "source": [
        "# 딥러닝 모델링(모델 구조 설계)"
      ],
      "metadata": {
        "id": "FSLvolA0imC3"
      }
    },
    {
      "cell_type": "code",
      "source": [
        "# 딥러닝 모델 불러오기\n",
        "# 텐서플로우 안에 있는 keras\n",
        "from tensorflow.keras.models import Sequential # 모델의 뼈대\n",
        "# 신경망의 구성 요소(하나씩 조립)\n",
        "from tensorflow.keras.layers import InputLayer, Dense, Activation\n",
        "# InputLayer : 입력층\n",
        "# Dense : 밀집도\n",
        "# Activation : 활성화 함수"
      ],
      "metadata": {
        "id": "JOgaqEwkimJG"
      },
      "execution_count": null,
      "outputs": []
    },
    {
      "cell_type": "markdown",
      "source": [
        "##### 딥러닝 모델 설계 순서\n",
        "1. 신경망 구조 설계\n",
        "2. 신경망 학습 및 평가 방법 설정\n",
        "3. 학습\n",
        "4. 예측 및 평가"
      ],
      "metadata": {
        "id": "pcMF-kfAimPG"
      }
    },
    {
      "cell_type": "code",
      "source": [
        "# 1. 신경망 구조 설계\n",
        "# 뼈대 생성\n",
        "model = Sequential()\n",
        "\n",
        "# 입력층\n",
        "model.add(InputLayer(input_shape = (1,))) # 입력 특성의 개수를 작성 -> 입력 특성은 studytime으로 한 개\n",
        "\n",
        "# 중간층 (은닉층)\n",
        "model.add(Dense(units = 10)) # 뉴런 10개를 연결해서 딥러닝 모델을 만들겠다 / 학습의 능력을 결정하는 층\n",
        "model.add(Activation('sigmoid')) # 활성화 함수 : 인간의 모방을 위함(위 선형함수와 짝꿍)\n",
        "\n",
        "# 출력층\n",
        "model.add(Dense(units = 1)) # 예측할 데이터의 형태, units = 1은 현재 예측할 데이터는 성적 데이터 1개이기 때문에 하나로 모으라는 뜻"
      ],
      "metadata": {
        "id": "fe7vh5ZFhh0N"
      },
      "execution_count": null,
      "outputs": []
    },
    {
      "cell_type": "markdown",
      "source": [
        "![image.png](data:image/png;base64,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)"
      ],
      "metadata": {
        "id": "d2sA2LvgytIv"
      }
    },
    {
      "cell_type": "code",
      "source": [
        "from sklearn import metrics\n",
        "from scipy import optimize\n",
        "# 2. 신경망 학습 및 평가 방법 설정\n",
        "# 딥러닝 모델은 학습법과 평가법을 지정해줘야 된다.\n",
        "model.compile(loss = 'mean_squared_error', # 모델의 잘못된 정도(오차) 측정 알고리즘\n",
        "              optimizer = 'SGD', # 모델의 w,b 값을 최적화하는 알고리즘\n",
        "              metrics = ['mse'])"
      ],
      "metadata": {
        "id": "GBD5SSnVhh84"
      },
      "execution_count": null,
      "outputs": []
    },
    {
      "cell_type": "code",
      "source": [
        "# 3. 모델 학습\n",
        "h1 = model.fit(X_train, y_train, validation_split=0.2, # 모델의 일반화를 하기 위해서 교차검증 진행\n",
        "          epochs = 20)  # 모델의 최적화(업데이터 횟수, 반복횟수)\n"
      ],
      "metadata": {
        "id": "ck-obQm0hiNQ",
        "colab": {
          "base_uri": "https://localhost:8080/"
        },
        "outputId": "c43b7ff8-691a-4055-afc2-4e168cd949a1"
      },
      "execution_count": null,
      "outputs": [
        {
          "output_type": "stream",
          "name": "stdout",
          "text": [
            "Epoch 1/20\n",
            "8/8 [==============================] - 1s 38ms/step - loss: 78.6492 - mse: 78.6492 - val_loss: 42.5039 - val_mse: 42.5039\n",
            "Epoch 2/20\n",
            "8/8 [==============================] - 0s 7ms/step - loss: 29.4506 - mse: 29.4506 - val_loss: 24.8754 - val_mse: 24.8754\n",
            "Epoch 3/20\n",
            "8/8 [==============================] - 0s 11ms/step - loss: 20.4985 - mse: 20.4985 - val_loss: 22.8211 - val_mse: 22.8211\n",
            "Epoch 4/20\n",
            "8/8 [==============================] - 0s 9ms/step - loss: 19.5610 - mse: 19.5610 - val_loss: 22.7233 - val_mse: 22.7233\n",
            "Epoch 5/20\n",
            "8/8 [==============================] - 0s 10ms/step - loss: 19.5420 - mse: 19.5420 - val_loss: 22.7249 - val_mse: 22.7249\n",
            "Epoch 6/20\n",
            "8/8 [==============================] - 0s 9ms/step - loss: 19.4030 - mse: 19.4030 - val_loss: 22.7346 - val_mse: 22.7346\n",
            "Epoch 7/20\n",
            "8/8 [==============================] - 0s 7ms/step - loss: 19.4927 - mse: 19.4927 - val_loss: 22.7319 - val_mse: 22.7319\n",
            "Epoch 8/20\n",
            "8/8 [==============================] - 0s 10ms/step - loss: 19.3989 - mse: 19.3989 - val_loss: 22.7386 - val_mse: 22.7386\n",
            "Epoch 9/20\n",
            "8/8 [==============================] - 0s 10ms/step - loss: 19.4727 - mse: 19.4727 - val_loss: 22.7435 - val_mse: 22.7435\n",
            "Epoch 10/20\n",
            "8/8 [==============================] - 0s 8ms/step - loss: 19.4261 - mse: 19.4261 - val_loss: 22.7425 - val_mse: 22.7425\n",
            "Epoch 11/20\n",
            "8/8 [==============================] - 0s 6ms/step - loss: 19.4575 - mse: 19.4575 - val_loss: 22.7502 - val_mse: 22.7502\n",
            "Epoch 12/20\n",
            "8/8 [==============================] - 0s 8ms/step - loss: 19.4081 - mse: 19.4081 - val_loss: 22.7605 - val_mse: 22.7605\n",
            "Epoch 13/20\n",
            "8/8 [==============================] - 0s 7ms/step - loss: 19.4154 - mse: 19.4154 - val_loss: 22.7602 - val_mse: 22.7602\n",
            "Epoch 14/20\n",
            "8/8 [==============================] - 0s 8ms/step - loss: 19.4078 - mse: 19.4078 - val_loss: 22.7533 - val_mse: 22.7533\n",
            "Epoch 15/20\n",
            "8/8 [==============================] - 0s 9ms/step - loss: 19.4110 - mse: 19.4110 - val_loss: 22.7826 - val_mse: 22.7826\n",
            "Epoch 16/20\n",
            "8/8 [==============================] - 0s 19ms/step - loss: 19.5809 - mse: 19.5809 - val_loss: 22.7764 - val_mse: 22.7764\n",
            "Epoch 17/20\n",
            "8/8 [==============================] - 0s 13ms/step - loss: 19.4140 - mse: 19.4140 - val_loss: 22.7617 - val_mse: 22.7617\n",
            "Epoch 18/20\n",
            "8/8 [==============================] - 0s 10ms/step - loss: 19.4866 - mse: 19.4866 - val_loss: 22.7648 - val_mse: 22.7648\n",
            "Epoch 19/20\n",
            "8/8 [==============================] - 0s 11ms/step - loss: 19.4764 - mse: 19.4764 - val_loss: 22.7764 - val_mse: 22.7764\n",
            "Epoch 20/20\n",
            "8/8 [==============================] - 0s 12ms/step - loss: 19.4375 - mse: 19.4375 - val_loss: 22.7712 - val_mse: 22.7712\n"
          ]
        }
      ]
    },
    {
      "cell_type": "code",
      "source": [
        "# 모델 평가\n",
        "model.evaluate(X_test, y_test)"
      ],
      "metadata": {
        "id": "rUV3Lw4bhiU-",
        "colab": {
          "base_uri": "https://localhost:8080/"
        },
        "outputId": "c7a2993f-0ec4-4cf9-868e-2cebc94944ff"
      },
      "execution_count": null,
      "outputs": [
        {
          "output_type": "stream",
          "name": "stdout",
          "text": [
            "3/3 [==============================] - 0s 10ms/step - loss: 23.8760 - mse: 23.8760\n"
          ]
        },
        {
          "output_type": "execute_result",
          "data": {
            "text/plain": [
              "[23.876007080078125, 23.876007080078125]"
            ]
          },
          "metadata": {},
          "execution_count": 28
        }
      ]
    },
    {
      "cell_type": "code",
      "source": [
        "# 모델 학습 로그출력\n",
        "h1.history"
      ],
      "metadata": {
        "id": "3Ukiyy4Mhibv",
        "colab": {
          "base_uri": "https://localhost:8080/"
        },
        "outputId": "26f2a325-dccc-4eb5-8f69-94ef154cb1a1"
      },
      "execution_count": null,
      "outputs": [
        {
          "output_type": "execute_result",
          "data": {
            "text/plain": [
              "{'loss': [78.64916229248047,\n",
              "  29.450613021850586,\n",
              "  20.49852752685547,\n",
              "  19.56104278564453,\n",
              "  19.541954040527344,\n",
              "  19.402997970581055,\n",
              "  19.492719650268555,\n",
              "  19.398902893066406,\n",
              "  19.47274398803711,\n",
              "  19.426124572753906,\n",
              "  19.45747947692871,\n",
              "  19.408079147338867,\n",
              "  19.415414810180664,\n",
              "  19.40784454345703,\n",
              "  19.41101837158203,\n",
              "  19.580888748168945,\n",
              "  19.414011001586914,\n",
              "  19.486597061157227,\n",
              "  19.4764461517334,\n",
              "  19.43753433227539],\n",
              " 'mse': [78.64916229248047,\n",
              "  29.450613021850586,\n",
              "  20.49852752685547,\n",
              "  19.56104278564453,\n",
              "  19.541954040527344,\n",
              "  19.402997970581055,\n",
              "  19.492719650268555,\n",
              "  19.398902893066406,\n",
              "  19.47274398803711,\n",
              "  19.426124572753906,\n",
              "  19.45747947692871,\n",
              "  19.408079147338867,\n",
              "  19.415414810180664,\n",
              "  19.40784454345703,\n",
              "  19.41101837158203,\n",
              "  19.580888748168945,\n",
              "  19.414011001586914,\n",
              "  19.486597061157227,\n",
              "  19.4764461517334,\n",
              "  19.43753433227539],\n",
              " 'val_loss': [42.50389862060547,\n",
              "  24.875415802001953,\n",
              "  22.821054458618164,\n",
              "  22.723312377929688,\n",
              "  22.724943161010742,\n",
              "  22.734567642211914,\n",
              "  22.731901168823242,\n",
              "  22.738601684570312,\n",
              "  22.743534088134766,\n",
              "  22.74250030517578,\n",
              "  22.750164031982422,\n",
              "  22.760452270507812,\n",
              "  22.760189056396484,\n",
              "  22.753334045410156,\n",
              "  22.782621383666992,\n",
              "  22.77640151977539,\n",
              "  22.76165771484375,\n",
              "  22.764820098876953,\n",
              "  22.776424407958984,\n",
              "  22.771177291870117],\n",
              " 'val_mse': [42.50389862060547,\n",
              "  24.875415802001953,\n",
              "  22.821054458618164,\n",
              "  22.723312377929688,\n",
              "  22.724943161010742,\n",
              "  22.734567642211914,\n",
              "  22.731901168823242,\n",
              "  22.738601684570312,\n",
              "  22.743534088134766,\n",
              "  22.74250030517578,\n",
              "  22.750164031982422,\n",
              "  22.760452270507812,\n",
              "  22.760189056396484,\n",
              "  22.753334045410156,\n",
              "  22.782621383666992,\n",
              "  22.77640151977539,\n",
              "  22.76165771484375,\n",
              "  22.764820098876953,\n",
              "  22.776424407958984,\n",
              "  22.771177291870117]}"
            ]
          },
          "metadata": {},
          "execution_count": 29
        }
      ]
    },
    {
      "cell_type": "code",
      "source": [
        "# 모델 학습 시각화\n",
        "\n",
        "plt.figure(figsize=(10,5))\n",
        "plt.plot(h1.history['loss'], label='train_loss')\n",
        "plt.plot(h1.history['val_loss'], label='val_loss')\n",
        "plt.legend()\n",
        "plt.show()"
      ],
      "metadata": {
        "id": "B57gNzsRgR6d",
        "colab": {
          "base_uri": "https://localhost:8080/",
          "height": 445
        },
        "outputId": "bffbd502-2bfe-4c7f-fcff-aa7bb1d9397d"
      },
      "execution_count": null,
      "outputs": [
        {
          "output_type": "display_data",
          "data": {
            "text/plain": [
              "<Figure size 1000x500 with 1 Axes>"
            ],
            "image/png": "[encoded data removed]"
          },
          "metadata": {}
        }
      ]
    },
    {
      "cell_type": "code",
      "source": [
        "data.info()"
      ],
      "metadata": {
        "colab": {
          "base_uri": "https://localhost:8080/"
        },
        "id": "J08EegiTuKNo",
        "outputId": "623b2ae7-23a1-49b8-c500-fed0739a458b"
      },
      "execution_count": null,
      "outputs": [
        {
          "output_type": "stream",
          "name": "stdout",
          "text": [
            "<class 'pandas.core.frame.DataFrame'>\n",
            "RangeIndex: 395 entries, 0 to 394\n",
            "Data columns (total 33 columns):\n",
            " #   Column      Non-Null Count  Dtype \n",
            "---  ------      --------------  ----- \n",
            " 0   school      395 non-null    object\n",
            " 1   sex         395 non-null    object\n",
            " 2   age         395 non-null    int64 \n",
            " 3   address     395 non-null    object\n",
            " 4   famsize     395 non-null    object\n",
            " 5   Pstatus     395 non-null    object\n",
            " 6   Medu        395 non-null    int64 \n",
            " 7   Fedu        395 non-null    int64 \n",
            " 8   Mjob        395 non-null    object\n",
            " 9   Fjob        395 non-null    object\n",
            " 10  reason      395 non-null    object\n",
            " 11  guardian    395 non-null    object\n",
            " 12  traveltime  395 non-null    int64 \n",
            " 13  studytime   395 non-null    int64 \n",
            " 14  failures    395 non-null    int64 \n",
            " 15  schoolsup   395 non-null    object\n",
            " 16  famsup      395 non-null    object\n",
            " 17  paid        395 non-null    object\n",
            " 18  activities  395 non-null    object\n",
            " 19  nursery     395 non-null    object\n",
            " 20  higher      395 non-null    object\n",
            " 21  internet    395 non-null    object\n",
            " 22  romantic    395 non-null    object\n",
            " 23  famrel      395 non-null    int64 \n",
            " 24  freetime    395 non-null    int64 \n",
            " 25  goout       395 non-null    int64 \n",
            " 26  Dalc        395 non-null    int64 \n",
            " 27  Walc        395 non-null    int64 \n",
            " 28  health      395 non-null    int64 \n",
            " 29  absences    395 non-null    int64 \n",
            " 30  G1          395 non-null    int64 \n",
            " 31  G2          395 non-null    int64 \n",
            " 32  G3          395 non-null    int64 \n",
            "dtypes: int64(16), object(17)\n",
            "memory usage: 102.0+ KB\n"
          ]
        }
      ]
    },
    {
      "cell_type": "markdown",
      "source": [
        "### 4개의 입력특성을 골라 학습시켜보자!"
      ],
      "metadata": {
        "id": "mxiTq8LsuKZI"
      }
    },
    {
      "cell_type": "code",
      "source": [
        "X = data[['studytime','freetime','traveltime','health']]\n",
        "y=data['G3']"
      ],
      "metadata": {
        "id": "El-0-VimuKkH"
      },
      "execution_count": null,
      "outputs": []
    },
    {
      "cell_type": "code",
      "source": [
        "# train, test 분리\n",
        "X_train, X_test, y_train, y_test = train_test_split(X, y, random_state=915, test_size=0.2)"
      ],
      "metadata": {
        "id": "8rIEZ5rluKtw"
      },
      "execution_count": null,
      "outputs": []
    },
    {
      "cell_type": "code",
      "source": [
        "# 데이터 크기\n",
        "X_train.shape, y_train.shape, X_test.shape, y_test.shape"
      ],
      "metadata": {
        "colab": {
          "base_uri": "https://localhost:8080/"
        },
        "id": "OUhA2GVR_z1o",
        "outputId": "e4c4696d-605a-42c8-82aa-14aa7847fbb9"
      },
      "execution_count": null,
      "outputs": [
        {
          "output_type": "execute_result",
          "data": {
            "text/plain": [
              "((316, 4), (316,), (79, 4), (79,))"
            ]
          },
          "metadata": {},
          "execution_count": 34
        }
      ]
    },
    {
      "cell_type": "code",
      "source": [
        "# 1. 신경망 구조 설계\n",
        "# 뼈대 생성\n",
        "model2 = Sequential()\n",
        "\n",
        "# 입력층 input_shape = 나의 특성수\n",
        "model2.add(InputLayer(input_shape = (4,)))\n",
        "\n",
        "# 중간층 (은닉층)\n",
        "model2.add(Dense(units = 10))\n",
        "model2.add(Activation('sigmoid'))\n",
        "\n",
        "# 출력층\n",
        "model2.add(Dense(units = 1))"
      ],
      "metadata": {
        "id": "CvjDfOc8uK30"
      },
      "execution_count": null,
      "outputs": []
    },
    {
      "cell_type": "code",
      "source": [
        "# 2. 신경망 학습 및 평가 방법 설정\n",
        "model2.compile(loss = 'mean_squared_error', # 분류면 crossentrophy\n",
        "              optimizer = 'SGD', # 경사하강법\n",
        "              metrics = ['mse'])"
      ],
      "metadata": {
        "id": "72bm9wRPuLBN"
      },
      "execution_count": null,
      "outputs": []
    },
    {
      "cell_type": "code",
      "source": [
        "X_train.shape"
      ],
      "metadata": {
        "colab": {
          "base_uri": "https://localhost:8080/"
        },
        "id": "fwlnSfXq9aAU",
        "outputId": "81ef288b-5e70-463f-dbf8-22354b84c3b7"
      },
      "execution_count": null,
      "outputs": [
        {
          "output_type": "execute_result",
          "data": {
            "text/plain": [
              "(316, 4)"
            ]
          },
          "metadata": {},
          "execution_count": 37
        }
      ]
    },
    {
      "cell_type": "code",
      "source": [
        "# 3. 모델 학습\n",
        "h2 = model2.fit(X_train, y_train, validation_split=0.2, epochs = 20)"
      ],
      "metadata": {
        "colab": {
          "base_uri": "https://localhost:8080/"
        },
        "id": "cSom5oIruLLX",
        "outputId": "8b712e5c-a181-4f55-a710-06c2f83dd53d"
      },
      "execution_count": null,
      "outputs": [
        {
          "output_type": "stream",
          "name": "stdout",
          "text": [
            "Epoch 1/20\n",
            "8/8 [==============================] - 1s 61ms/step - loss: 65.9534 - mse: 65.9534 - val_loss: 33.3558 - val_mse: 33.3558\n",
            "Epoch 2/20\n",
            "8/8 [==============================] - 0s 17ms/step - loss: 23.9866 - mse: 23.9866 - val_loss: 24.5803 - val_mse: 24.5803\n",
            "Epoch 3/20\n",
            "8/8 [==============================] - 0s 17ms/step - loss: 20.2548 - mse: 20.2548 - val_loss: 23.9685 - val_mse: 23.9685\n",
            "Epoch 4/20\n",
            "8/8 [==============================] - 0s 18ms/step - loss: 19.8822 - mse: 19.8822 - val_loss: 23.8810 - val_mse: 23.8810\n",
            "Epoch 5/20\n",
            "8/8 [==============================] - 0s 12ms/step - loss: 19.8309 - mse: 19.8309 - val_loss: 23.8382 - val_mse: 23.8382\n",
            "Epoch 6/20\n",
            "8/8 [==============================] - 0s 22ms/step - loss: 19.7908 - mse: 19.7908 - val_loss: 23.8027 - val_mse: 23.8027\n",
            "Epoch 7/20\n",
            "8/8 [==============================] - 0s 26ms/step - loss: 19.7855 - mse: 19.7855 - val_loss: 23.7863 - val_mse: 23.7863\n",
            "Epoch 8/20\n",
            "8/8 [==============================] - 0s 23ms/step - loss: 19.7333 - mse: 19.7333 - val_loss: 23.7627 - val_mse: 23.7627\n",
            "Epoch 9/20\n",
            "8/8 [==============================] - 0s 36ms/step - loss: 19.7163 - mse: 19.7163 - val_loss: 23.7238 - val_mse: 23.7238\n",
            "Epoch 10/20\n",
            "8/8 [==============================] - 0s 27ms/step - loss: 19.6876 - mse: 19.6876 - val_loss: 23.6912 - val_mse: 23.6912\n",
            "Epoch 11/20\n",
            "8/8 [==============================] - 0s 28ms/step - loss: 19.6158 - mse: 19.6158 - val_loss: 23.6679 - val_mse: 23.6679\n",
            "Epoch 12/20\n",
            "8/8 [==============================] - 0s 28ms/step - loss: 19.6507 - mse: 19.6507 - val_loss: 23.6478 - val_mse: 23.6478\n",
            "Epoch 13/20\n",
            "8/8 [==============================] - 0s 31ms/step - loss: 19.5690 - mse: 19.5690 - val_loss: 23.6267 - val_mse: 23.6267\n",
            "Epoch 14/20\n",
            "8/8 [==============================] - 0s 37ms/step - loss: 19.6837 - mse: 19.6837 - val_loss: 23.6132 - val_mse: 23.6132\n",
            "Epoch 15/20\n",
            "8/8 [==============================] - 0s 21ms/step - loss: 19.5879 - mse: 19.5879 - val_loss: 23.5874 - val_mse: 23.5874\n",
            "Epoch 16/20\n",
            "8/8 [==============================] - 0s 24ms/step - loss: 19.5310 - mse: 19.5310 - val_loss: 23.5961 - val_mse: 23.5961\n",
            "Epoch 17/20\n",
            "8/8 [==============================] - 0s 23ms/step - loss: 19.5754 - mse: 19.5754 - val_loss: 23.5469 - val_mse: 23.5469\n",
            "Epoch 18/20\n",
            "8/8 [==============================] - 0s 27ms/step - loss: 19.5835 - mse: 19.5835 - val_loss: 23.5333 - val_mse: 23.5333\n",
            "Epoch 19/20\n",
            "8/8 [==============================] - 0s 50ms/step - loss: 19.4957 - mse: 19.4957 - val_loss: 23.5085 - val_mse: 23.5085\n",
            "Epoch 20/20\n",
            "8/8 [==============================] - 0s 19ms/step - loss: 19.5030 - mse: 19.5030 - val_loss: 23.4890 - val_mse: 23.4890\n"
          ]
        }
      ]
    },
    {
      "cell_type": "code",
      "source": [
        "model2.evaluate(X_test, y_test)"
      ],
      "metadata": {
        "colab": {
          "base_uri": "https://localhost:8080/"
        },
        "id": "TVCqu8e1uLXh",
        "outputId": "c1d99641-02e1-490f-bcad-d8d3b19d5fc0"
      },
      "execution_count": null,
      "outputs": [
        {
          "output_type": "stream",
          "name": "stdout",
          "text": [
            "3/3 [==============================] - 1s 6ms/step - loss: 23.7172 - mse: 23.7172\n"
          ]
        },
        {
          "output_type": "execute_result",
          "data": {
            "text/plain": [
              "[23.717239379882812, 23.717239379882812]"
            ]
          },
          "metadata": {},
          "execution_count": 39
        }
      ]
    },
    {
      "cell_type": "code",
      "source": [
        "h2.history"
      ],
      "metadata": {
        "id": "va38imZk_Emx",
        "outputId": "c775f3d0-188d-4519-b45b-a7542c1b3162",
        "colab": {
          "base_uri": "https://localhost:8080/"
        }
      },
      "execution_count": null,
      "outputs": [
        {
          "output_type": "execute_result",
          "data": {
            "text/plain": [
              "{'loss': [65.95343017578125,\n",
              "  23.986631393432617,\n",
              "  20.25478744506836,\n",
              "  19.882192611694336,\n",
              "  19.830942153930664,\n",
              "  19.790794372558594,\n",
              "  19.785493850708008,\n",
              "  19.733327865600586,\n",
              "  19.71633529663086,\n",
              "  19.687564849853516,\n",
              "  19.615758895874023,\n",
              "  19.650659561157227,\n",
              "  19.568952560424805,\n",
              "  19.6837158203125,\n",
              "  19.587907791137695,\n",
              "  19.5310001373291,\n",
              "  19.575424194335938,\n",
              "  19.583499908447266,\n",
              "  19.495710372924805,\n",
              "  19.502979278564453],\n",
              " 'mse': [65.95343017578125,\n",
              "  23.986631393432617,\n",
              "  20.25478744506836,\n",
              "  19.882192611694336,\n",
              "  19.830942153930664,\n",
              "  19.790794372558594,\n",
              "  19.785493850708008,\n",
              "  19.733327865600586,\n",
              "  19.71633529663086,\n",
              "  19.687564849853516,\n",
              "  19.615758895874023,\n",
              "  19.650659561157227,\n",
              "  19.568952560424805,\n",
              "  19.6837158203125,\n",
              "  19.587907791137695,\n",
              "  19.5310001373291,\n",
              "  19.575424194335938,\n",
              "  19.583499908447266,\n",
              "  19.495710372924805,\n",
              "  19.502979278564453],\n",
              " 'val_loss': [33.355804443359375,\n",
              "  24.580341339111328,\n",
              "  23.968547821044922,\n",
              "  23.88102912902832,\n",
              "  23.838165283203125,\n",
              "  23.802711486816406,\n",
              "  23.786287307739258,\n",
              "  23.762691497802734,\n",
              "  23.723751068115234,\n",
              "  23.69118881225586,\n",
              "  23.667917251586914,\n",
              "  23.647804260253906,\n",
              "  23.626663208007812,\n",
              "  23.613155364990234,\n",
              "  23.587390899658203,\n",
              "  23.596126556396484,\n",
              "  23.546871185302734,\n",
              "  23.533323287963867,\n",
              "  23.508487701416016,\n",
              "  23.489009857177734],\n",
              " 'val_mse': [33.355804443359375,\n",
              "  24.580341339111328,\n",
              "  23.968547821044922,\n",
              "  23.88102912902832,\n",
              "  23.838165283203125,\n",
              "  23.802711486816406,\n",
              "  23.786287307739258,\n",
              "  23.762691497802734,\n",
              "  23.723751068115234,\n",
              "  23.69118881225586,\n",
              "  23.667917251586914,\n",
              "  23.647804260253906,\n",
              "  23.626663208007812,\n",
              "  23.613155364990234,\n",
              "  23.587390899658203,\n",
              "  23.596126556396484,\n",
              "  23.546871185302734,\n",
              "  23.533323287963867,\n",
              "  23.508487701416016,\n",
              "  23.489009857177734]}"
            ]
          },
          "metadata": {},
          "execution_count": 40
        }
      ]
    },
    {
      "cell_type": "code",
      "source": [
        "# 모델 학습 시각화\n",
        "\n",
        "plt.figure(figsize=(10,5))\n",
        "plt.plot(h2.history['loss'], label='train_loss')\n",
        "plt.plot(h2.history['val_loss'], label='val_loss')\n",
        "plt.legend()\n",
        "plt.show()"
      ],
      "metadata": {
        "colab": {
          "base_uri": "https://localhost:8080/",
          "height": 445
        },
        "id": "MWG-8eG3uLdJ",
        "outputId": "2de9c414-9632-4235-afef-46045880e52f"
      },
      "execution_count": null,
      "outputs": [
        {
          "output_type": "display_data",
          "data": {
            "text/plain": [
              "<Figure size 1000x500 with 1 Axes>"
            ],
            "image/png": "[encoded data removed]"
          },
          "metadata": {}
        }
      ]
    },
    {
      "cell_type": "code",
      "source": [],
      "metadata": {
        "id": "CXU7dcYUuLjf"
      },
      "execution_count": null,
      "outputs": []
    },
    {
      "cell_type": "code",
      "source": [],
      "metadata": {
        "id": "IbyHRuO1uLpN"
      },
      "execution_count": null,
      "outputs": []
    },
    {
      "cell_type": "code",
      "source": [],
      "metadata": {
        "id": "ESQf9WpHuLvv"
      },
      "execution_count": null,
      "outputs": []
    },
    {
      "cell_type": "code",
      "source": [],
      "metadata": {
        "id": "criVcWyeuL1d"
      },
      "execution_count": null,
      "outputs": []
    },
    {
      "cell_type": "code",
      "source": [],
      "metadata": {
        "id": "IHB2kHE_uL7d"
      },
      "execution_count": null,
      "outputs": []
    },
    {
      "cell_type": "code",
      "source": [],
      "metadata": {
        "id": "cyCnfRQquMBN"
      },
      "execution_count": null,
      "outputs": []
    },
    {
      "cell_type": "code",
      "source": [],
      "metadata": {
        "id": "Rp9LHtkP1KrX"
      },
      "execution_count": null,
      "outputs": []
    },
    {
      "cell_type": "code",
      "source": [],
      "metadata": {
        "id": "WtTgzzhX1K0T"
      },
      "execution_count": null,
      "outputs": []
    },
    {
      "cell_type": "code",
      "source": [],
      "metadata": {
        "id": "C-A68OVs1LD4"
      },
      "execution_count": null,
      "outputs": []
    },
    {
      "cell_type": "code",
      "source": [],
      "metadata": {
        "id": "kYALfvxl1LMb"
      },
      "execution_count": null,
      "outputs": []
    },
    {
      "cell_type": "code",
      "source": [],
      "metadata": {
        "id": "p8GbfIM51LUh"
      },
      "execution_count": null,
      "outputs": []
    },
    {
      "cell_type": "code",
      "source": [],
      "metadata": {
        "id": "yOUVtXu_1Lb_"
      },
      "execution_count": null,
      "outputs": []
    },
    {
      "cell_type": "code",
      "source": [],
      "metadata": {
        "id": "rEHHV78x1Ljy"
      },
      "execution_count": null,
      "outputs": []
    },
    {
      "cell_type": "code",
      "source": [],
      "metadata": {
        "id": "AhFS5_Lk1Lrc"
      },
      "execution_count": null,
      "outputs": []
    },
    {
      "cell_type": "code",
      "source": [],
      "metadata": {
        "id": "WhuH1bcr1LyY"
      },
      "execution_count": null,
      "outputs": []
    },
    {
      "cell_type": "code",
      "source": [],
      "metadata": {
        "id": "ltN3nah81L5A"
      },
      "execution_count": null,
      "outputs": []
    },
    {
      "cell_type": "code",
      "source": [],
      "metadata": {
        "id": "x1a098mj1MHt"
      },
      "execution_count": null,
      "outputs": []
    },
    {
      "cell_type": "code",
      "source": [],
      "metadata": {
        "id": "2eOGqKVI1MPZ"
      },
      "execution_count": null,
      "outputs": []
    },
    {
      "cell_type": "code",
      "source": [],
      "metadata": {
        "id": "pmocup-_1MV8"
      },
      "execution_count": null,
      "outputs": []
    },
    {
      "cell_type": "code",
      "source": [],
      "metadata": {
        "id": "JQg4pbqb1Mca"
      },
      "execution_count": null,
      "outputs": []
    },
    {
      "cell_type": "code",
      "source": [],
      "metadata": {
        "id": "fK1T5UdE1Mjh"
      },
      "execution_count": null,
      "outputs": []
    },
    {
      "cell_type": "code",
      "source": [],
      "metadata": {
        "id": "F_j95o2V1Mqz"
      },
      "execution_count": null,
      "outputs": []
    },
    {
      "cell_type": "code",
      "source": [],
      "metadata": {
        "id": "sN8x_bJL1M2S"
      },
      "execution_count": null,
      "outputs": []
    },
    {
      "cell_type": "code",
      "source": [],
      "metadata": {
        "id": "ama1hO_K1M9A"
      },
      "execution_count": null,
      "outputs": []
    },
    {
      "cell_type": "code",
      "source": [],
      "metadata": {
        "id": "-zgjZzPV1NEV"
      },
      "execution_count": null,
      "outputs": []
    },
    {
      "cell_type": "code",
      "source": [],
      "metadata": {
        "id": "OwH1zyGb1NL8"
      },
      "execution_count": null,
      "outputs": []
    },
    {
      "cell_type": "code",
      "source": [],
      "metadata": {
        "id": "wnBsIsH-1NUd"
      },
      "execution_count": null,
      "outputs": []
    },
    {
      "cell_type": "code",
      "source": [],
      "metadata": {
        "id": "af1PBp1W1Nch"
      },
      "execution_count": null,
      "outputs": []
    },
    {
      "cell_type": "code",
      "source": [],
      "metadata": {
        "id": "zDRK-3xl1Nj2"
      },
      "execution_count": null,
      "outputs": []
    },
    {
      "cell_type": "code",
      "source": [],
      "metadata": {
        "id": "MniVVGxh1Nre"
      },
      "execution_count": null,
      "outputs": []
    },
    {
      "cell_type": "code",
      "source": [],
      "metadata": {
        "id": "dctB9z_t1NyY"
      },
      "execution_count": null,
      "outputs": []
    }
  ]
}