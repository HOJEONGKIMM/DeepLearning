{
  "nbformat": 4,
  "nbformat_minor": 0,
  "metadata": {
    "colab": {
      "provenance": []
    },
    "kernelspec": {
      "name": "python3",
      "display_name": "Python 3"
    },
    "language_info": {
      "name": "python"
    }
  },
  "cells": [
    {
      "cell_type": "markdown",
      "source": [
        "### 목표\n",
        "- 활성화 함수와 경사하강법 최적의 조합을 확인해보자\n",
        "- 모델링에 도움이 되는 callback 함수 (모델 저장, 조기학습중단)을 알아보자"
      ],
      "metadata": {
        "id": "wfkyAh0ej2qE"
      }
    },
    {
      "cell_type": "markdown",
      "source": [
        "### 데이터 로딩"
      ],
      "metadata": {
        "id": "zytUGCbbkBm5"
      }
    },
    {
      "cell_type": "code",
      "source": [
        "from tensorflow.keras.datasets import mnist"
      ],
      "metadata": {
        "id": "xzPgtGapkBsu"
      },
      "execution_count": null,
      "outputs": []
    },
    {
      "cell_type": "code",
      "source": [
        "# 데이터 분리\n",
        "(X_train, y_train), (X_test, y_test) = mnist.load_data()"
      ],
      "metadata": {
        "id": "vpWdX7XmkBy_"
      },
      "execution_count": null,
      "outputs": []
    },
    {
      "cell_type": "code",
      "source": [
        "# 크기 확인\n",
        "(X_train.shape, y_train.shape), (X_test.shape, y_test.shape)"
      ],
      "metadata": {
        "colab": {
          "base_uri": "https://localhost:8080/"
        },
        "id": "RjuNquw_kB4n",
        "outputId": "ac111a99-2b83-4597-8bcd-7476d4499fc4"
      },
      "execution_count": null,
      "outputs": [
        {
          "output_type": "execute_result",
          "data": {
            "text/plain": [
              "(((60000, 28, 28), (60000,)), ((10000, 28, 28), (10000,)))"
            ]
          },
          "metadata": {},
          "execution_count": 40
        }
      ]
    },
    {
      "cell_type": "markdown",
      "source": [
        "### 활성화 함수와 경사하강법 조합에 따른 성능비교\n",
        "1. sigmoid + SGD 조합\n",
        "2. relu + SGD 조합\n",
        "3. relu + Adam 조합"
      ],
      "metadata": {
        "id": "CcKitV64kB96"
      }
    },
    {
      "cell_type": "code",
      "source": [
        "# 라이브러리 불러오기\n",
        "from tensorflow.keras.models import Sequential\n",
        "from tensorflow.keras.layers import Dense, InputLayer, Flatten\n",
        "from tensorflow.keras.optimizers import SGD, Adam # 경사하강법 클래스 사용"
      ],
      "metadata": {
        "id": "0bFofmmZkCDl"
      },
      "execution_count": null,
      "outputs": []
    },
    {
      "cell_type": "code",
      "source": [
        "# 1. sigmoid + SGD 조합\n",
        "# 뼈대\n",
        "model1 = Sequential()\n",
        "# 입력층\n",
        "model1.add(InputLayer (input_shape = (28,28)))\n",
        "\n",
        "# 사진 데이터 (2차원 -> 1차원)\n",
        "model1.add(Flatten()) # 2차원의 사진 데이터를 1차원으로 변경 (선형모델을 위한 작업)\n",
        "\n",
        "# 중간층 (5개층 (unit 64, 128, 256, 128, 64))\n",
        "model1.add(Dense(units = 64, activation = 'sigmoid'))\n",
        "model1.add(Dense(units = 128, activation = 'sigmoid'))\n",
        "model1.add(Dense(units = 256, activation = 'sigmoid'))\n",
        "model1.add(Dense(units = 128, activation = 'sigmoid'))\n",
        "model1.add(Dense(units = 64, activation = 'sigmoid'))\n",
        "\n",
        "# 출력층\n",
        "model1.add(Dense(units=10, activation='softmax'))"
      ],
      "metadata": {
        "id": "6ksH7rKSkCKK"
      },
      "execution_count": null,
      "outputs": []
    },
    {
      "cell_type": "code",
      "source": [
        "# 2. 학습방법 및 평가방법 설정\n",
        "model1.compile(loss = 'sparse_categorical_crossentropy', # 정답데이터의 shape 맞추는 과정\n",
        "                    optimizer = SGD(learning_rate=0.01), # SGD 기본학습률 : 0.01\n",
        "                    metrics = ['accuracy'])              # 분류이니까 accuracy"
      ],
      "metadata": {
        "id": "cUP4IK02kCQw"
      },
      "execution_count": null,
      "outputs": []
    },
    {
      "cell_type": "code",
      "source": [
        "# 3. 학습 # epochs = 20\n",
        "h1 = model1.fit(X_train, y_train,\n",
        "                    validation_split=0.2, # 교차검증\n",
        "                    batch_size=128,\n",
        "                     epochs = 20)"
      ],
      "metadata": {
        "colab": {
          "base_uri": "https://localhost:8080/"
        },
        "id": "JWBRZVwokCWc",
        "outputId": "586d845e-34fb-458b-e6d8-10797796c03c"
      },
      "execution_count": null,
      "outputs": [
        {
          "output_type": "stream",
          "name": "stdout",
          "text": [
            "Epoch 1/20\n",
            "375/375 [==============================] - 3s 6ms/step - loss: 2.3086 - accuracy: 0.1100 - val_loss: 2.3022 - val_accuracy: 0.1060\n",
            "Epoch 2/20\n",
            "375/375 [==============================] - 2s 6ms/step - loss: 2.3013 - accuracy: 0.1140 - val_loss: 2.3020 - val_accuracy: 0.1060\n",
            "Epoch 3/20\n",
            "375/375 [==============================] - 3s 8ms/step - loss: 2.3011 - accuracy: 0.1141 - val_loss: 2.3024 - val_accuracy: 0.1060\n",
            "Epoch 4/20\n",
            "375/375 [==============================] - 3s 8ms/step - loss: 2.3010 - accuracy: 0.1140 - val_loss: 2.3015 - val_accuracy: 0.1060\n",
            "Epoch 5/20\n",
            "375/375 [==============================] - 2s 5ms/step - loss: 2.3008 - accuracy: 0.1140 - val_loss: 2.3018 - val_accuracy: 0.1060\n",
            "Epoch 6/20\n",
            "375/375 [==============================] - 2s 5ms/step - loss: 2.3007 - accuracy: 0.1137 - val_loss: 2.3017 - val_accuracy: 0.1060\n",
            "Epoch 7/20\n",
            "375/375 [==============================] - 2s 6ms/step - loss: 2.3006 - accuracy: 0.1140 - val_loss: 2.3011 - val_accuracy: 0.1060\n",
            "Epoch 8/20\n",
            "375/375 [==============================] - 2s 5ms/step - loss: 2.3005 - accuracy: 0.1140 - val_loss: 2.3011 - val_accuracy: 0.1060\n",
            "Epoch 9/20\n",
            "375/375 [==============================] - 4s 11ms/step - loss: 2.3002 - accuracy: 0.1140 - val_loss: 2.3012 - val_accuracy: 0.1060\n",
            "Epoch 10/20\n",
            "375/375 [==============================] - 3s 9ms/step - loss: 2.3001 - accuracy: 0.1149 - val_loss: 2.3007 - val_accuracy: 0.2157\n",
            "Epoch 11/20\n",
            "375/375 [==============================] - 2s 6ms/step - loss: 2.3001 - accuracy: 0.1153 - val_loss: 2.3007 - val_accuracy: 0.1060\n",
            "Epoch 12/20\n",
            "375/375 [==============================] - 2s 5ms/step - loss: 2.2999 - accuracy: 0.1142 - val_loss: 2.3008 - val_accuracy: 0.1060\n",
            "Epoch 13/20\n",
            "375/375 [==============================] - 2s 5ms/step - loss: 2.2997 - accuracy: 0.1147 - val_loss: 2.3001 - val_accuracy: 0.1060\n",
            "Epoch 14/20\n",
            "375/375 [==============================] - 3s 8ms/step - loss: 2.2996 - accuracy: 0.1140 - val_loss: 2.3009 - val_accuracy: 0.1060\n",
            "Epoch 15/20\n",
            "375/375 [==============================] - 2s 6ms/step - loss: 2.2993 - accuracy: 0.1173 - val_loss: 2.3008 - val_accuracy: 0.1060\n",
            "Epoch 16/20\n",
            "375/375 [==============================] - 2s 6ms/step - loss: 2.2992 - accuracy: 0.1148 - val_loss: 2.3001 - val_accuracy: 0.1060\n",
            "Epoch 17/20\n",
            "375/375 [==============================] - 2s 6ms/step - loss: 2.2990 - accuracy: 0.1169 - val_loss: 2.2997 - val_accuracy: 0.1060\n",
            "Epoch 18/20\n",
            "375/375 [==============================] - 2s 5ms/step - loss: 2.2989 - accuracy: 0.1140 - val_loss: 2.2996 - val_accuracy: 0.1060\n",
            "Epoch 19/20\n",
            "375/375 [==============================] - 2s 6ms/step - loss: 2.2987 - accuracy: 0.1140 - val_loss: 2.2993 - val_accuracy: 0.1060\n",
            "Epoch 20/20\n",
            "375/375 [==============================] - 3s 7ms/step - loss: 2.2985 - accuracy: 0.1140 - val_loss: 2.2993 - val_accuracy: 0.1060\n"
          ]
        }
      ]
    },
    {
      "cell_type": "code",
      "source": [
        "# 학습결과 시각화\n",
        "\n",
        "import pandas as pd\n",
        "import numpy as np\n",
        "import matplotlib.pyplot as plt\n",
        "\n",
        "# loss\n",
        "plt.figure(figsize=(15,5))\n",
        "# sigmoid + SGD 조합\n",
        "plt.plot(h1.history['accuracy'], label=\"sigmoid+SGD train acc\")\n",
        "plt.plot(h1.history['val_accuracy'], label=\"sigmoid+SGD validation acc\")\n",
        "plt.legend()\n",
        "plt.show()"
      ],
      "metadata": {
        "colab": {
          "base_uri": "https://localhost:8080/",
          "height": 467
        },
        "id": "_rDYZk2ukCcD",
        "outputId": "798da2d1-961b-46e3-ac7d-1a00f6aebfb3"
      },
      "execution_count": null,
      "outputs": [
        {
          "output_type": "display_data",
          "data": {
            "text/plain": [
              "<Figure size 1500x500 with 1 Axes>"
            ],
            "image/png": "[encoded data removed]"
          },
          "metadata": {}
        }
      ]
    },
    {
      "cell_type": "markdown",
      "source": [
        "### 2. relu + SGD 조합"
      ],
      "metadata": {
        "id": "OWBv9dGbvXa7"
      }
    },
    {
      "cell_type": "code",
      "source": [
        "# 1. relu + SGD 조합\n",
        "# 뼈대\n",
        "model2 = Sequential()\n",
        "# 입력층\n",
        "model2.add(InputLayer (input_shape = (28,28)))\n",
        "\n",
        "# 사진 데이터 (2차원 -> 1차원)\n",
        "model2.add(Flatten()) # 2차원의 사진 데이터를 1차원으로 변경 (선형모델을 위한 작업)\n",
        "\n",
        "# 중간층 (5개층 (unit 64, 128, 256, 128, 64))\n",
        "model2.add(Dense(units = 64, activation = 'relu'))\n",
        "model2.add(Dense(units = 128, activation = 'relu'))\n",
        "model2.add(Dense(units = 256, activation = 'relu'))\n",
        "model2.add(Dense(units = 128, activation = 'relu'))\n",
        "model2.add(Dense(units = 64, activation = 'relu'))\n",
        "\n",
        "# 출력층\n",
        "model2.add(Dense(units=10, activation='softmax'))"
      ],
      "metadata": {
        "id": "N9KyQGrLkChg"
      },
      "execution_count": null,
      "outputs": []
    },
    {
      "cell_type": "code",
      "source": [
        "# 2. 학습방법 및 평가방법 설정\n",
        "model2.compile(loss = 'sparse_categorical_crossentropy', # 정답데이터의 shape 맞추는 과정\n",
        "                    optimizer = SGD(learning_rate=0.01), # SGD 기본학습률 : 0.01\n",
        "                    metrics = ['accuracy'])              # 분류이니까 accuracy"
      ],
      "metadata": {
        "id": "aUkhrSvokCm3"
      },
      "execution_count": null,
      "outputs": []
    },
    {
      "cell_type": "code",
      "source": [
        "# 3. 학습 # epochs = 20\n",
        "h2 = model2.fit(X_train, y_train,\n",
        "                    validation_split=0.2, # 교차검증\n",
        "                    epochs = 20,\n",
        "                    batch_size=128)"
      ],
      "metadata": {
        "colab": {
          "base_uri": "https://localhost:8080/"
        },
        "id": "lAZ0i3OakCsc",
        "outputId": "28d7e2a5-4efb-4f99-ae38-78360160d0c2"
      },
      "execution_count": null,
      "outputs": [
        {
          "output_type": "stream",
          "name": "stdout",
          "text": [
            "Epoch 1/20\n",
            "375/375 [==============================] - 3s 6ms/step - loss: 6.7883 - accuracy: 0.1136 - val_loss: 2.3015 - val_accuracy: 0.1065\n",
            "Epoch 2/20\n",
            "375/375 [==============================] - 2s 5ms/step - loss: 2.2964 - accuracy: 0.1177 - val_loss: 2.3019 - val_accuracy: 0.1060\n",
            "Epoch 3/20\n",
            "375/375 [==============================] - 2s 5ms/step - loss: 2.3012 - accuracy: 0.1140 - val_loss: 2.3019 - val_accuracy: 0.1060\n",
            "Epoch 4/20\n",
            "375/375 [==============================] - 2s 5ms/step - loss: 2.3011 - accuracy: 0.1140 - val_loss: 2.3019 - val_accuracy: 0.1060\n",
            "Epoch 5/20\n",
            "375/375 [==============================] - 3s 7ms/step - loss: 2.3010 - accuracy: 0.1140 - val_loss: 2.3020 - val_accuracy: 0.1060\n",
            "Epoch 6/20\n",
            "375/375 [==============================] - 3s 7ms/step - loss: 2.3010 - accuracy: 0.1140 - val_loss: 2.3020 - val_accuracy: 0.1060\n",
            "Epoch 7/20\n",
            "375/375 [==============================] - 2s 5ms/step - loss: 2.3010 - accuracy: 0.1140 - val_loss: 2.3021 - val_accuracy: 0.1060\n",
            "Epoch 8/20\n",
            "375/375 [==============================] - 2s 5ms/step - loss: 2.3010 - accuracy: 0.1140 - val_loss: 2.3021 - val_accuracy: 0.1060\n",
            "Epoch 9/20\n",
            "375/375 [==============================] - 2s 5ms/step - loss: 2.3010 - accuracy: 0.1140 - val_loss: 2.3021 - val_accuracy: 0.1060\n",
            "Epoch 10/20\n",
            "375/375 [==============================] - 2s 5ms/step - loss: 2.3010 - accuracy: 0.1140 - val_loss: 2.3021 - val_accuracy: 0.1060\n",
            "Epoch 11/20\n",
            "375/375 [==============================] - 3s 7ms/step - loss: 2.3010 - accuracy: 0.1140 - val_loss: 2.3021 - val_accuracy: 0.1060\n",
            "Epoch 12/20\n",
            "375/375 [==============================] - 2s 6ms/step - loss: 2.3010 - accuracy: 0.1140 - val_loss: 2.3021 - val_accuracy: 0.1060\n",
            "Epoch 13/20\n",
            "375/375 [==============================] - 2s 5ms/step - loss: 2.3010 - accuracy: 0.1140 - val_loss: 2.3021 - val_accuracy: 0.1060\n",
            "Epoch 14/20\n",
            "375/375 [==============================] - 2s 6ms/step - loss: 2.3010 - accuracy: 0.1140 - val_loss: 2.3021 - val_accuracy: 0.1060\n",
            "Epoch 15/20\n",
            "375/375 [==============================] - 2s 5ms/step - loss: 2.3010 - accuracy: 0.1140 - val_loss: 2.3021 - val_accuracy: 0.1060\n",
            "Epoch 16/20\n",
            "375/375 [==============================] - 2s 5ms/step - loss: 2.3010 - accuracy: 0.1140 - val_loss: 2.3021 - val_accuracy: 0.1060\n",
            "Epoch 17/20\n",
            "375/375 [==============================] - 3s 8ms/step - loss: 2.3010 - accuracy: 0.1140 - val_loss: 2.3021 - val_accuracy: 0.1060\n",
            "Epoch 18/20\n",
            "375/375 [==============================] - 2s 6ms/step - loss: 2.3010 - accuracy: 0.1140 - val_loss: 2.3021 - val_accuracy: 0.1060\n",
            "Epoch 19/20\n",
            "375/375 [==============================] - 2s 5ms/step - loss: 2.3010 - accuracy: 0.1140 - val_loss: 2.3021 - val_accuracy: 0.1060\n",
            "Epoch 20/20\n",
            "375/375 [==============================] - 2s 5ms/step - loss: 2.3010 - accuracy: 0.1140 - val_loss: 2.3021 - val_accuracy: 0.1060\n"
          ]
        }
      ]
    },
    {
      "cell_type": "code",
      "source": [
        "# loss\n",
        "plt.figure(figsize=(15,5))\n",
        "# relu + SGD 조합\n",
        "plt.plot(h2.history['accuracy'], label=\"relu+SGD train acc\")\n",
        "plt.plot(h2.history['val_accuracy'], label=\"relu+SGD validation acc\")\n",
        "plt.legend()\n",
        "plt.show()"
      ],
      "metadata": {
        "colab": {
          "base_uri": "https://localhost:8080/",
          "height": 465
        },
        "id": "Vg3dxnCJkCyb",
        "outputId": "b64df2ba-0f56-4811-f1c4-a5e42d745059"
      },
      "execution_count": null,
      "outputs": [
        {
          "output_type": "display_data",
          "data": {
            "text/plain": [
              "<Figure size 1500x500 with 1 Axes>"
            ],
            "image/png": "[encoded data removed]"
          },
          "metadata": {}
        }
      ]
    },
    {
      "cell_type": "markdown",
      "source": [
        "### 3. relu + Adam 조합"
      ],
      "metadata": {
        "id": "2YqMLhJTv8WU"
      }
    },
    {
      "cell_type": "code",
      "source": [
        "# 3. relu + Adam 조합\n",
        "# 뼈대\n",
        "model3 = Sequential()\n",
        "# 입력층\n",
        "model3.add(InputLayer (input_shape = (28,28)))\n",
        "\n",
        "# 사진 데이터 (2차원 -> 1차원)\n",
        "model3.add(Flatten()) # 2차원의 사진 데이터를 1차원으로 변경 (선형모델을 위한 작업)\n",
        "\n",
        "# 중간층 (5개층 (unit 64, 128, 256, 128, 64))\n",
        "model3.add(Dense(units = 64, activation = 'relu'))\n",
        "model3.add(Dense(units = 128, activation = 'relu'))\n",
        "model3.add(Dense(units = 256, activation = 'relu'))\n",
        "model3.add(Dense(units = 128, activation = 'relu'))\n",
        "model3.add(Dense(units = 64, activation = 'relu'))\n",
        "\n",
        "# 출력층\n",
        "model3.add(Dense(units=10, activation='softmax'))\n",
        "\n",
        "\n",
        "# 2. 학습방법 및 평가방법 설정\n",
        "model3.compile(loss = 'sparse_categorical_crossentropy', # 정답데이터의 shape 맞추는 과정\n",
        "                    optimizer = Adam(learning_rate=0.001), # Adam 기본학습률 : 0.001\n",
        "                    metrics = ['accuracy'])\n",
        "\n",
        "# 3. 학습 # epochs = 20\n",
        "h3 = model3.fit(X_train, y_train,\n",
        "                    validation_split=0.2, # 교차검증\n",
        "                    epochs = 20,\n",
        "                    batch_size=128)\n"
      ],
      "metadata": {
        "colab": {
          "base_uri": "https://localhost:8080/"
        },
        "id": "ry02Q-IokC4Q",
        "outputId": "d7572dce-e12d-44d5-8e61-18506d7a1892"
      },
      "execution_count": null,
      "outputs": [
        {
          "output_type": "stream",
          "name": "stdout",
          "text": [
            "Epoch 1/20\n",
            "375/375 [==============================] - 3s 6ms/step - loss: 0.7344 - accuracy: 0.8322 - val_loss: 0.2604 - val_accuracy: 0.9207\n",
            "Epoch 2/20\n",
            "375/375 [==============================] - 3s 8ms/step - loss: 0.2181 - accuracy: 0.9340 - val_loss: 0.2200 - val_accuracy: 0.9375\n",
            "Epoch 3/20\n",
            "375/375 [==============================] - 3s 7ms/step - loss: 0.1541 - accuracy: 0.9542 - val_loss: 0.1840 - val_accuracy: 0.9477\n",
            "Epoch 4/20\n",
            "375/375 [==============================] - 2s 6ms/step - loss: 0.1226 - accuracy: 0.9627 - val_loss: 0.1643 - val_accuracy: 0.9544\n",
            "Epoch 5/20\n",
            "375/375 [==============================] - 2s 6ms/step - loss: 0.0965 - accuracy: 0.9702 - val_loss: 0.1842 - val_accuracy: 0.9528\n",
            "Epoch 6/20\n",
            "375/375 [==============================] - 2s 6ms/step - loss: 0.0903 - accuracy: 0.9717 - val_loss: 0.1534 - val_accuracy: 0.9600\n",
            "Epoch 7/20\n",
            "375/375 [==============================] - 3s 7ms/step - loss: 0.0787 - accuracy: 0.9756 - val_loss: 0.1632 - val_accuracy: 0.9608\n",
            "Epoch 8/20\n",
            "375/375 [==============================] - 3s 8ms/step - loss: 0.0730 - accuracy: 0.9776 - val_loss: 0.1494 - val_accuracy: 0.9608\n",
            "Epoch 9/20\n",
            "375/375 [==============================] - 2s 6ms/step - loss: 0.0667 - accuracy: 0.9794 - val_loss: 0.1530 - val_accuracy: 0.9605\n",
            "Epoch 10/20\n",
            "375/375 [==============================] - 2s 6ms/step - loss: 0.0652 - accuracy: 0.9797 - val_loss: 0.1597 - val_accuracy: 0.9638\n",
            "Epoch 11/20\n",
            "375/375 [==============================] - 2s 6ms/step - loss: 0.0591 - accuracy: 0.9814 - val_loss: 0.1617 - val_accuracy: 0.9617\n",
            "Epoch 12/20\n",
            "375/375 [==============================] - 2s 6ms/step - loss: 0.0515 - accuracy: 0.9838 - val_loss: 0.1525 - val_accuracy: 0.9653\n",
            "Epoch 13/20\n",
            "375/375 [==============================] - 3s 9ms/step - loss: 0.0491 - accuracy: 0.9850 - val_loss: 0.1444 - val_accuracy: 0.9648\n",
            "Epoch 14/20\n",
            "375/375 [==============================] - 2s 6ms/step - loss: 0.0463 - accuracy: 0.9859 - val_loss: 0.1536 - val_accuracy: 0.9655\n",
            "Epoch 15/20\n",
            "375/375 [==============================] - 2s 6ms/step - loss: 0.0443 - accuracy: 0.9867 - val_loss: 0.1895 - val_accuracy: 0.9612\n",
            "Epoch 16/20\n",
            "375/375 [==============================] - 2s 6ms/step - loss: 0.0464 - accuracy: 0.9862 - val_loss: 0.1846 - val_accuracy: 0.9571\n",
            "Epoch 17/20\n",
            "375/375 [==============================] - 2s 6ms/step - loss: 0.0408 - accuracy: 0.9876 - val_loss: 0.1678 - val_accuracy: 0.9647\n",
            "Epoch 18/20\n",
            "375/375 [==============================] - 3s 7ms/step - loss: 0.0409 - accuracy: 0.9880 - val_loss: 0.1705 - val_accuracy: 0.9645\n",
            "Epoch 19/20\n",
            "375/375 [==============================] - 3s 7ms/step - loss: 0.0348 - accuracy: 0.9891 - val_loss: 0.1835 - val_accuracy: 0.9666\n",
            "Epoch 20/20\n",
            "375/375 [==============================] - 2s 6ms/step - loss: 0.0413 - accuracy: 0.9879 - val_loss: 0.1712 - val_accuracy: 0.9665\n"
          ]
        }
      ]
    },
    {
      "cell_type": "code",
      "source": [
        "plt.figure(figsize=(15,5))\n",
        "# relu + Adam 조합\n",
        "plt.plot(h3.history['accuracy'], label=\"relu+Adam train acc\")\n",
        "plt.plot(h3.history['val_accuracy'], label=\"relu+Adam validation acc\")\n",
        "\n",
        "plt.legend()\n",
        "plt.show()"
      ],
      "metadata": {
        "colab": {
          "base_uri": "https://localhost:8080/",
          "height": 465
        },
        "id": "BGw-PZQnkC98",
        "outputId": "23a05728-59b4-4e54-f078-e7859bfdb106"
      },
      "execution_count": null,
      "outputs": [
        {
          "output_type": "display_data",
          "data": {
            "text/plain": [
              "<Figure size 1500x500 with 1 Axes>"
            ],
            "image/png": "[encoded data removed]"
          },
          "metadata": {}
        }
      ]
    },
    {
      "cell_type": "code",
      "source": [
        "import matplotlib.pyplot as plt\n",
        "plt.figure(figsize=(15,5))\n",
        "# sigmoid + SGD 조합\n",
        "plt.plot(h1.history['accuracy'], label=\"sigmoid+SGD train acc\")\n",
        "plt.plot(h1.history['val_accuracy'], label=\"sigmoid+SGD validation acc\")\n",
        "# relu + SGD 조합\n",
        "plt.plot(h2.history['accuracy'], label=\"relu+SGD train acc\")\n",
        "plt.plot(h2.history['val_accuracy'], label=\"relu+SGD validation acc\")\n",
        "# relu + Adam 조합\n",
        "plt.plot(h3.history['accuracy'], label=\"relu+Adam train acc\")\n",
        "plt.plot(h3.history['val_accuracy'], label=\"relu+Adam validation acc\")\n",
        "\n",
        "plt.legend()\n",
        "plt.show()"
      ],
      "metadata": {
        "colab": {
          "base_uri": "https://localhost:8080/",
          "height": 372
        },
        "id": "N88ds-P2yyNH",
        "outputId": "4413efca-7f08-4685-a209-9ec899144407"
      },
      "execution_count": null,
      "outputs": [
        {
          "output_type": "display_data",
          "data": {
            "text/plain": [
              "<Figure size 1500x500 with 1 Axes>"
            ],
            "image/png": "[encoded data removed]"
          },
          "metadata": {}
        }
      ]
    },
    {
      "cell_type": "markdown",
      "source": [
        "### callback 함수\n",
        "- 모델 저장 및 조기학습 중단\n",
        "- <모델 저장> : ModelCheckPoint\n",
        "  - 딥러닝모델 학습 시 지정된 epoch를 다 끝내면 과대적합이 일어나는 경우가 있다 -> 중간에 일반화된 모델을 저장할 수 있는 기능\n",
        "- <조기학습 중단> : EarlyStopping\n",
        "  - epoch를 크게 설정할 경우 일정 횟수 이상으로는 모델의 성능이 개선되지 않는 경우가 있다. -> 시간 낭비 -> 모델의 성능이 개선되지 않는 경우에는 조기 중단이 필요하게 된다."
      ],
      "metadata": {
        "id": "dLgBPbFWkDDl"
      }
    },
    {
      "cell_type": "code",
      "source": [
        "from tensorflow.keras.callbacks import ModelCheckpoint, EarlyStopping\n",
        "# 모델 중간 저장\n",
        "# 모델 중간 멈춤"
      ],
      "metadata": {
        "id": "Uxb2db3IkDI_"
      },
      "execution_count": null,
      "outputs": []
    },
    {
      "cell_type": "code",
      "source": [
        "# 모델 저장\n",
        "# 저장될 경로 작성\n",
        "model_path = '/content/drive/MyDrive/Colab Notebooks/DeepLearning/data/digit_model/dm_{epoch:02d}_{val_accuracy:0.2f}.hdf5'\n",
        "mckp = ModelCheckpoint(filepath = model_path, # 저장경로\n",
        "                verbose = 1,           # 로그 출력 -> 1 : 로그 출력 Ok\n",
        "                save_best_only = True, # 모델 성능이 최고점을 갱신할 때 (best score) 저장\n",
        "                monitor = 'val_accuracy') # 최고점의 기준치\n",
        "# callback 객체 생성완료\n",
        "# 사용한 것은 아님"
      ],
      "metadata": {
        "id": "s3T0OeqEkDPb"
      },
      "execution_count": null,
      "outputs": []
    },
    {
      "cell_type": "code",
      "source": [
        "# 조기학습 중단\n",
        "early = EarlyStopping(monitor = 'val_accuracy', # 기준치\n",
        "                      verbose = 1,        # 로그 출력\n",
        "                      patience = 10,      # 모델 성능 개선을 기다리는 최대 횟수 -> 10번 같은 값 나오면 중단\n",
        "                      )"
      ],
      "metadata": {
        "id": "RL2aKc4PkDWn"
      },
      "execution_count": null,
      "outputs": []
    },
    {
      "cell_type": "code",
      "source": [
        "# 세번째 조합으로 모델링\n",
        "\n",
        "# 3. relu + Adam 조합\n",
        "# 뼈대\n",
        "model3 = Sequential()\n",
        "# 입력층\n",
        "model3.add(InputLayer (input_shape = (28,28)))\n",
        "\n",
        "# 사진 데이터 (2차원 -> 1차원)\n",
        "model3.add(Flatten()) # 2차원의 사진 데이터를 1차원으로 변경 (선형모델을 위한 작업)\n",
        "\n",
        "# 중간층 (5개층 (unit 64, 128, 256, 128, 64))\n",
        "model3.add(Dense(units = 64, activation = 'relu'))\n",
        "model3.add(Dense(units = 128, activation = 'relu'))\n",
        "model3.add(Dense(units = 256, activation = 'relu'))\n",
        "model3.add(Dense(units = 128, activation = 'relu'))\n",
        "model3.add(Dense(units = 64, activation = 'relu'))\n",
        "\n",
        "# 출력층\n",
        "model3.add(Dense(units=10, activation='softmax'))\n",
        "\n",
        "\n",
        "# 2. 학습방법 및 평가방법 설정\n",
        "model3.compile(loss = 'sparse_categorical_crossentropy', # 정답데이터의 shape 맞추는 과정\n",
        "                    optimizer = Adam(learning_rate=0.001), # Adam 기본학습률 : 0.001\n",
        "                    metrics = ['accuracy'])\n",
        "\n",
        "# 3. 학습 # epochs = 20\n",
        "h3 = model3.fit(X_train, y_train,\n",
        "                validation_split=0.2, # 교차검증\n",
        "                epochs = 1000,\n",
        "                batch_size=128,\n",
        "                callbacks = [mckp, early])\n",
        "# 13장 - 4번(모델 저장과 재사용)\n",
        "# 14장 - 4번(학습의 자동중단)"
      ],
      "metadata": {
        "colab": {
          "base_uri": "https://localhost:8080/"
        },
        "id": "tysCHBAZydLd",
        "outputId": "6fede5c5-9caf-45ba-f4cc-e1f4c72971d5"
      },
      "execution_count": null,
      "outputs": [
        {
          "output_type": "stream",
          "name": "stdout",
          "text": [
            "Epoch 1/1000\n",
            "369/375 [============================>.] - ETA: 0s - loss: 0.7824 - accuracy: 0.8124\n",
            "Epoch 1: val_accuracy improved from -inf to 0.92508, saving model to /content/drive/MyDrive/Colab Notebooks/DeepLearning/data/digit_model/dm_01_0.93.hdf5\n",
            "375/375 [==============================] - 4s 7ms/step - loss: 0.7754 - accuracy: 0.8139 - val_loss: 0.2549 - val_accuracy: 0.9251\n",
            "Epoch 2/1000\n",
            " 21/375 [>.............................] - ETA: 1s - loss: 0.2143 - accuracy: 0.9334"
          ]
        },
        {
          "output_type": "stream",
          "name": "stderr",
          "text": [
            "/usr/local/lib/python3.10/dist-packages/keras/src/engine/training.py:3000: UserWarning: You are saving your model as an HDF5 file via `model.save()`. This file format is considered legacy. We recommend using instead the native Keras format, e.g. `model.save('my_model.keras')`.\n",
            "  saving_api.save_model(\n"
          ]
        },
        {
          "output_type": "stream",
          "name": "stdout",
          "text": [
            "369/375 [============================>.] - ETA: 0s - loss: 0.2222 - accuracy: 0.9340\n",
            "Epoch 2: val_accuracy improved from 0.92508 to 0.94267, saving model to /content/drive/MyDrive/Colab Notebooks/DeepLearning/data/digit_model/dm_02_0.94.hdf5\n",
            "375/375 [==============================] - 2s 6ms/step - loss: 0.2224 - accuracy: 0.9340 - val_loss: 0.2005 - val_accuracy: 0.9427\n",
            "Epoch 3/1000\n",
            "375/375 [==============================] - ETA: 0s - loss: 0.1596 - accuracy: 0.9504\n",
            "Epoch 3: val_accuracy improved from 0.94267 to 0.94917, saving model to /content/drive/MyDrive/Colab Notebooks/DeepLearning/data/digit_model/dm_03_0.95.hdf5\n",
            "375/375 [==============================] - 2s 6ms/step - loss: 0.1596 - accuracy: 0.9504 - val_loss: 0.1748 - val_accuracy: 0.9492\n",
            "Epoch 4/1000\n",
            "370/375 [============================>.] - ETA: 0s - loss: 0.1236 - accuracy: 0.9623\n",
            "Epoch 4: val_accuracy improved from 0.94917 to 0.95408, saving model to /content/drive/MyDrive/Colab Notebooks/DeepLearning/data/digit_model/dm_04_0.95.hdf5\n",
            "375/375 [==============================] - 4s 11ms/step - loss: 0.1242 - accuracy: 0.9622 - val_loss: 0.1619 - val_accuracy: 0.9541\n",
            "Epoch 5/1000\n",
            "373/375 [============================>.] - ETA: 0s - loss: 0.1026 - accuracy: 0.9687\n",
            "Epoch 5: val_accuracy improved from 0.95408 to 0.95517, saving model to /content/drive/MyDrive/Colab Notebooks/DeepLearning/data/digit_model/dm_05_0.96.hdf5\n",
            "375/375 [==============================] - 3s 7ms/step - loss: 0.1026 - accuracy: 0.9687 - val_loss: 0.1615 - val_accuracy: 0.9552\n",
            "Epoch 6/1000\n",
            "371/375 [============================>.] - ETA: 0s - loss: 0.0865 - accuracy: 0.9727\n",
            "Epoch 6: val_accuracy improved from 0.95517 to 0.96017, saving model to /content/drive/MyDrive/Colab Notebooks/DeepLearning/data/digit_model/dm_06_0.96.hdf5\n",
            "375/375 [==============================] - 2s 6ms/step - loss: 0.0864 - accuracy: 0.9726 - val_loss: 0.1659 - val_accuracy: 0.9602\n",
            "Epoch 7/1000\n",
            "370/375 [============================>.] - ETA: 0s - loss: 0.0804 - accuracy: 0.9744\n",
            "Epoch 7: val_accuracy did not improve from 0.96017\n",
            "375/375 [==============================] - 2s 6ms/step - loss: 0.0809 - accuracy: 0.9743 - val_loss: 0.1670 - val_accuracy: 0.9588\n",
            "Epoch 8/1000\n",
            "371/375 [============================>.] - ETA: 0s - loss: 0.0722 - accuracy: 0.9773\n",
            "Epoch 8: val_accuracy improved from 0.96017 to 0.96150, saving model to /content/drive/MyDrive/Colab Notebooks/DeepLearning/data/digit_model/dm_08_0.96.hdf5\n",
            "375/375 [==============================] - 2s 6ms/step - loss: 0.0723 - accuracy: 0.9772 - val_loss: 0.1592 - val_accuracy: 0.9615\n",
            "Epoch 9/1000\n",
            "373/375 [============================>.] - ETA: 0s - loss: 0.0648 - accuracy: 0.9801\n",
            "Epoch 9: val_accuracy did not improve from 0.96150\n",
            "375/375 [==============================] - 3s 8ms/step - loss: 0.0649 - accuracy: 0.9801 - val_loss: 0.1625 - val_accuracy: 0.9609\n",
            "Epoch 10/1000\n",
            "373/375 [============================>.] - ETA: 0s - loss: 0.0676 - accuracy: 0.9790\n",
            "Epoch 10: val_accuracy improved from 0.96150 to 0.96508, saving model to /content/drive/MyDrive/Colab Notebooks/DeepLearning/data/digit_model/dm_10_0.97.hdf5\n",
            "375/375 [==============================] - 3s 9ms/step - loss: 0.0673 - accuracy: 0.9791 - val_loss: 0.1565 - val_accuracy: 0.9651\n",
            "Epoch 11/1000\n",
            "366/375 [============================>.] - ETA: 0s - loss: 0.0620 - accuracy: 0.9807\n",
            "Epoch 11: val_accuracy did not improve from 0.96508\n",
            "375/375 [==============================] - 2s 6ms/step - loss: 0.0618 - accuracy: 0.9807 - val_loss: 0.1578 - val_accuracy: 0.9643\n",
            "Epoch 12/1000\n",
            "373/375 [============================>.] - ETA: 0s - loss: 0.0559 - accuracy: 0.9824\n",
            "Epoch 12: val_accuracy improved from 0.96508 to 0.96633, saving model to /content/drive/MyDrive/Colab Notebooks/DeepLearning/data/digit_model/dm_12_0.97.hdf5\n",
            "375/375 [==============================] - 2s 6ms/step - loss: 0.0557 - accuracy: 0.9824 - val_loss: 0.1434 - val_accuracy: 0.9663\n",
            "Epoch 13/1000\n",
            "373/375 [============================>.] - ETA: 0s - loss: 0.0522 - accuracy: 0.9835\n",
            "Epoch 13: val_accuracy did not improve from 0.96633\n",
            "375/375 [==============================] - 2s 6ms/step - loss: 0.0521 - accuracy: 0.9835 - val_loss: 0.1619 - val_accuracy: 0.9628\n",
            "Epoch 14/1000\n",
            "374/375 [============================>.] - ETA: 0s - loss: 0.0430 - accuracy: 0.9872\n",
            "Epoch 14: val_accuracy improved from 0.96633 to 0.96750, saving model to /content/drive/MyDrive/Colab Notebooks/DeepLearning/data/digit_model/dm_14_0.97.hdf5\n",
            "375/375 [==============================] - 2s 6ms/step - loss: 0.0431 - accuracy: 0.9872 - val_loss: 0.1421 - val_accuracy: 0.9675\n",
            "Epoch 15/1000\n",
            "373/375 [============================>.] - ETA: 0s - loss: 0.0441 - accuracy: 0.9856\n",
            "Epoch 15: val_accuracy did not improve from 0.96750\n",
            "375/375 [==============================] - 4s 10ms/step - loss: 0.0440 - accuracy: 0.9856 - val_loss: 0.1610 - val_accuracy: 0.9666\n",
            "Epoch 16/1000\n",
            "367/375 [============================>.] - ETA: 0s - loss: 0.0435 - accuracy: 0.9862\n",
            "Epoch 16: val_accuracy did not improve from 0.96750\n",
            "375/375 [==============================] - 4s 10ms/step - loss: 0.0436 - accuracy: 0.9862 - val_loss: 0.1616 - val_accuracy: 0.9647\n",
            "Epoch 17/1000\n",
            "375/375 [==============================] - ETA: 0s - loss: 0.0431 - accuracy: 0.9873\n",
            "Epoch 17: val_accuracy did not improve from 0.96750\n",
            "375/375 [==============================] - 2s 6ms/step - loss: 0.0431 - accuracy: 0.9873 - val_loss: 0.1527 - val_accuracy: 0.9643\n",
            "Epoch 18/1000\n",
            "373/375 [============================>.] - ETA: 0s - loss: 0.0358 - accuracy: 0.9886\n",
            "Epoch 18: val_accuracy improved from 0.96750 to 0.97100, saving model to /content/drive/MyDrive/Colab Notebooks/DeepLearning/data/digit_model/dm_18_0.97.hdf5\n",
            "375/375 [==============================] - 2s 6ms/step - loss: 0.0356 - accuracy: 0.9886 - val_loss: 0.1441 - val_accuracy: 0.9710\n",
            "Epoch 19/1000\n",
            "367/375 [============================>.] - ETA: 0s - loss: 0.0394 - accuracy: 0.9878\n",
            "Epoch 19: val_accuracy did not improve from 0.97100\n",
            "375/375 [==============================] - 2s 6ms/step - loss: 0.0392 - accuracy: 0.9877 - val_loss: 0.1469 - val_accuracy: 0.9681\n",
            "Epoch 20/1000\n",
            "375/375 [==============================] - ETA: 0s - loss: 0.0357 - accuracy: 0.9893\n",
            "Epoch 20: val_accuracy did not improve from 0.97100\n",
            "375/375 [==============================] - 3s 8ms/step - loss: 0.0357 - accuracy: 0.9893 - val_loss: 0.1590 - val_accuracy: 0.9669\n",
            "Epoch 21/1000\n",
            "372/375 [============================>.] - ETA: 0s - loss: 0.0329 - accuracy: 0.9900\n",
            "Epoch 21: val_accuracy did not improve from 0.97100\n",
            "375/375 [==============================] - 4s 9ms/step - loss: 0.0330 - accuracy: 0.9900 - val_loss: 0.1549 - val_accuracy: 0.9700\n",
            "Epoch 22/1000\n",
            "372/375 [============================>.] - ETA: 0s - loss: 0.0342 - accuracy: 0.9901\n",
            "Epoch 22: val_accuracy did not improve from 0.97100\n",
            "375/375 [==============================] - 2s 6ms/step - loss: 0.0340 - accuracy: 0.9902 - val_loss: 0.1657 - val_accuracy: 0.9669\n",
            "Epoch 23/1000\n",
            "373/375 [============================>.] - ETA: 0s - loss: 0.0299 - accuracy: 0.9910\n",
            "Epoch 23: val_accuracy did not improve from 0.97100\n",
            "375/375 [==============================] - 2s 6ms/step - loss: 0.0298 - accuracy: 0.9910 - val_loss: 0.1666 - val_accuracy: 0.9692\n",
            "Epoch 24/1000\n",
            "373/375 [============================>.] - ETA: 0s - loss: 0.0279 - accuracy: 0.9920\n",
            "Epoch 24: val_accuracy improved from 0.97100 to 0.97250, saving model to /content/drive/MyDrive/Colab Notebooks/DeepLearning/data/digit_model/dm_24_0.97.hdf5\n",
            "375/375 [==============================] - 2s 6ms/step - loss: 0.0278 - accuracy: 0.9920 - val_loss: 0.1581 - val_accuracy: 0.9725\n",
            "Epoch 25/1000\n",
            "367/375 [============================>.] - ETA: 0s - loss: 0.0284 - accuracy: 0.9918\n",
            "Epoch 25: val_accuracy did not improve from 0.97250\n",
            "375/375 [==============================] - 2s 6ms/step - loss: 0.0286 - accuracy: 0.9917 - val_loss: 0.1740 - val_accuracy: 0.9693\n",
            "Epoch 26/1000\n",
            "374/375 [============================>.] - ETA: 0s - loss: 0.0314 - accuracy: 0.9909\n",
            "Epoch 26: val_accuracy did not improve from 0.97250\n",
            "375/375 [==============================] - 4s 10ms/step - loss: 0.0314 - accuracy: 0.9909 - val_loss: 0.1707 - val_accuracy: 0.9672\n",
            "Epoch 27/1000\n",
            "374/375 [============================>.] - ETA: 0s - loss: 0.0295 - accuracy: 0.9911\n",
            "Epoch 27: val_accuracy did not improve from 0.97250\n",
            "375/375 [==============================] - 3s 8ms/step - loss: 0.0295 - accuracy: 0.9911 - val_loss: 0.1703 - val_accuracy: 0.9682\n",
            "Epoch 28/1000\n",
            "373/375 [============================>.] - ETA: 0s - loss: 0.0255 - accuracy: 0.9927\n",
            "Epoch 28: val_accuracy did not improve from 0.97250\n",
            "375/375 [==============================] - 2s 6ms/step - loss: 0.0254 - accuracy: 0.9927 - val_loss: 0.1592 - val_accuracy: 0.9708\n",
            "Epoch 29/1000\n",
            "366/375 [============================>.] - ETA: 0s - loss: 0.0260 - accuracy: 0.9928\n",
            "Epoch 29: val_accuracy did not improve from 0.97250\n",
            "375/375 [==============================] - 2s 6ms/step - loss: 0.0263 - accuracy: 0.9927 - val_loss: 0.1500 - val_accuracy: 0.9710\n",
            "Epoch 30/1000\n",
            "371/375 [============================>.] - ETA: 0s - loss: 0.0144 - accuracy: 0.9954\n",
            "Epoch 30: val_accuracy did not improve from 0.97250\n",
            "375/375 [==============================] - 2s 6ms/step - loss: 0.0148 - accuracy: 0.9954 - val_loss: 0.1784 - val_accuracy: 0.9703\n",
            "Epoch 31/1000\n",
            "371/375 [============================>.] - ETA: 0s - loss: 0.0296 - accuracy: 0.9912\n",
            "Epoch 31: val_accuracy did not improve from 0.97250\n",
            "375/375 [==============================] - 2s 6ms/step - loss: 0.0297 - accuracy: 0.9912 - val_loss: 0.1555 - val_accuracy: 0.9708\n",
            "Epoch 32/1000\n",
            "373/375 [============================>.] - ETA: 0s - loss: 0.0218 - accuracy: 0.9934\n",
            "Epoch 32: val_accuracy did not improve from 0.97250\n",
            "375/375 [==============================] - 3s 9ms/step - loss: 0.0219 - accuracy: 0.9934 - val_loss: 0.1858 - val_accuracy: 0.9678\n",
            "Epoch 33/1000\n",
            "371/375 [============================>.] - ETA: 0s - loss: 0.0231 - accuracy: 0.9935\n",
            "Epoch 33: val_accuracy did not improve from 0.97250\n",
            "375/375 [==============================] - 3s 7ms/step - loss: 0.0229 - accuracy: 0.9935 - val_loss: 0.1775 - val_accuracy: 0.9697\n",
            "Epoch 34/1000\n",
            "371/375 [============================>.] - ETA: 0s - loss: 0.0212 - accuracy: 0.9941\n",
            "Epoch 34: val_accuracy did not improve from 0.97250\n",
            "375/375 [==============================] - 2s 6ms/step - loss: 0.0215 - accuracy: 0.9941 - val_loss: 0.2057 - val_accuracy: 0.9705\n",
            "Epoch 34: early stopping\n"
          ]
        }
      ]
    },
    {
      "cell_type": "markdown",
      "source": [
        "### 가장 우수한 모델 불러오기\n",
        "\n",
        "\n"
      ],
      "metadata": {
        "id": "_c84DO2uydQw"
      }
    },
    {
      "cell_type": "code",
      "source": [
        "from tensorflow.keras.models import load_model\n",
        "\n",
        "# 이미 학습된 모델\n",
        "best_model = load_model('/content/drive/MyDrive/Colab Notebooks/DeepLearning/data/digit_model/dm_24_0.97.hdf5')"
      ],
      "metadata": {
        "id": "6ixcVudfydV3"
      },
      "execution_count": null,
      "outputs": []
    },
    {
      "cell_type": "code",
      "source": [
        "# 평가 (evaluate)\n"
      ],
      "metadata": {
        "id": "7aopdxZjydbY"
      },
      "execution_count": null,
      "outputs": []
    },
    {
      "cell_type": "code",
      "source": [],
      "metadata": {
        "id": "TWsSYqmwydhm"
      },
      "execution_count": null,
      "outputs": []
    },
    {
      "cell_type": "code",
      "source": [],
      "metadata": {
        "id": "wL9RLH0dydnE"
      },
      "execution_count": null,
      "outputs": []
    },
    {
      "cell_type": "code",
      "source": [],
      "metadata": {
        "id": "2_ilxh8Zydsm"
      },
      "execution_count": null,
      "outputs": []
    },
    {
      "cell_type": "code",
      "source": [],
      "metadata": {
        "id": "PNmxQM3Fydyv"
      },
      "execution_count": null,
      "outputs": []
    },
    {
      "cell_type": "code",
      "source": [],
      "metadata": {
        "id": "wkgnK4wJyd4d"
      },
      "execution_count": null,
      "outputs": []
    },
    {
      "cell_type": "code",
      "source": [],
      "metadata": {
        "id": "a6_XgtlTyd99"
      },
      "execution_count": null,
      "outputs": []
    },
    {
      "cell_type": "code",
      "source": [],
      "metadata": {
        "id": "XTHOjCGLyeD4"
      },
      "execution_count": null,
      "outputs": []
    },
    {
      "cell_type": "code",
      "source": [],
      "metadata": {
        "id": "5b56a53XyeJN"
      },
      "execution_count": null,
      "outputs": []
    },
    {
      "cell_type": "code",
      "source": [],
      "metadata": {
        "id": "gH5Kcg8JyeOU"
      },
      "execution_count": null,
      "outputs": []
    },
    {
      "cell_type": "code",
      "source": [],
      "metadata": {
        "id": "GQ421RrayeT4"
      },
      "execution_count": null,
      "outputs": []
    },
    {
      "cell_type": "code",
      "source": [],
      "metadata": {
        "id": "58tI49s9yeZY"
      },
      "execution_count": null,
      "outputs": []
    },
    {
      "cell_type": "code",
      "source": [],
      "metadata": {
        "id": "ghTbZNQqyegT"
      },
      "execution_count": null,
      "outputs": []
    },
    {
      "cell_type": "code",
      "source": [],
      "metadata": {
        "id": "abyF34VAyelg"
      },
      "execution_count": null,
      "outputs": []
    }
  ]
}