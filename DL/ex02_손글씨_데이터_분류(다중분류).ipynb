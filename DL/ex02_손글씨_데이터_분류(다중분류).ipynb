{
  "nbformat": 4,
  "nbformat_minor": 0,
  "metadata": {
    "colab": {
      "provenance": []
    },
    "kernelspec": {
      "name": "python3",
      "display_name": "Python 3"
    },
    "language_info": {
      "name": "python"
    }
  },
  "cells": [
    {
      "cell_type": "code",
      "source": [
        "from google.colab import drive\n",
        "drive.mount('/content/drive')"
      ],
      "metadata": {
        "id": "Kb6AGhJ-Ho3q",
        "colab": {
          "base_uri": "https://localhost:8080/"
        },
        "outputId": "3b8b9b46-545b-4702-be1b-58471494bd8a"
      },
      "execution_count": null,
      "outputs": [
        {
          "output_type": "stream",
          "name": "stdout",
          "text": [
            "Drive already mounted at /content/drive; to attempt to forcibly remount, call drive.mount(\"/content/drive\", force_remount=True).\n"
          ]
        }
      ]
    },
    {
      "cell_type": "markdown",
      "source": [
        "### 목표\n",
        "- 손글씨 데이터를 분류하는 딥러닝 모델을 설계\n",
        "- 다중 분류 딥러닝 모델링을 연습해보기"
      ],
      "metadata": {
        "id": "QoJjP7X8e8D2"
      }
    },
    {
      "cell_type": "code",
      "source": [
        "# 기본 라이브러리 불러오기\n",
        "import numpy as np\n",
        "import pandas as pd\n",
        "import matplotlib.pyplot as plt"
      ],
      "metadata": {
        "id": "SGPNczVtfCpx"
      },
      "execution_count": null,
      "outputs": []
    },
    {
      "cell_type": "markdown",
      "source": [
        "##### 데이터 로딩\n",
        "\n"
      ],
      "metadata": {
        "id": "yv8DqCInfCzY"
      }
    },
    {
      "cell_type": "code",
      "source": [
        "# keras에서 제공해주는 손글씨 데이터 불러오기\n",
        "from tensorflow.keras.datasets import mnist"
      ],
      "metadata": {
        "id": "bmCB8D6PfC6Q"
      },
      "execution_count": null,
      "outputs": []
    },
    {
      "cell_type": "code",
      "source": [
        "# 문제 데이터와 정답 데이터가 나뉘어 제공해주고 있음\n",
        "# 훈련용, 테스트용 데이터도 나뉘어 제공\n",
        "(X_train, y_train), (X_test, y_test) = mnist.load_data()"
      ],
      "metadata": {
        "id": "Jr7iD9I3fC_q",
        "colab": {
          "base_uri": "https://localhost:8080/"
        },
        "outputId": "b62aae7b-4730-4afc-a13b-f8bb6ed69d57"
      },
      "execution_count": null,
      "outputs": [
        {
          "output_type": "stream",
          "name": "stdout",
          "text": [
            "Downloading data from https://storage.googleapis.com/tensorflow/tf-keras-datasets/mnist.npz\n",
            "11490434/11490434 [==============================] - 0s 0us/step\n"
          ]
        }
      ]
    },
    {
      "cell_type": "code",
      "source": [
        "# 데이터 크기 확인\n",
        "print(X_train.shape, y_train.shape)\n",
        "print(X_test.shape, y_test.shape)\n",
        "\n",
        "# 훈련 데이터 6만장, 테스트 데이터 1만장\n",
        "# 사진 데이터라 28*28 3차원의 데이터\n",
        "# 28*28 픽셀 -> 픽셀은 사진의 정보를 가지고 있는 단위(작은 사각형 하나가 1픽셀)"
      ],
      "metadata": {
        "colab": {
          "base_uri": "https://localhost:8080/"
        },
        "id": "EBAuvXJffDFi",
        "outputId": "ed417ada-86d4-4cfa-aff1-c8bc5a2854a2"
      },
      "execution_count": null,
      "outputs": [
        {
          "output_type": "stream",
          "name": "stdout",
          "text": [
            "(60000, 28, 28) (60000,)\n",
            "(10000, 28, 28) (10000,)\n"
          ]
        }
      ]
    },
    {
      "cell_type": "code",
      "source": [
        "# 사진 데이터 확인\n",
        "plt.imshow(X_train[1000], cmap='gray')\n",
        "\n",
        "# 흑백사진\n",
        "# 0~255 검정색의 정도를 숫자로 사진다"
      ],
      "metadata": {
        "colab": {
          "base_uri": "https://localhost:8080/",
          "height": 448
        },
        "id": "uBrkNj-GfDK3",
        "outputId": "eb5fa382-c70e-46ac-a6ff-71da5ea3b7a4"
      },
      "execution_count": null,
      "outputs": [
        {
          "output_type": "execute_result",
          "data": {
            "text/plain": [
              "<matplotlib.image.AxesImage at 0x7cb185bd92a0>"
            ]
          },
          "metadata": {},
          "execution_count": 6
        },
        {
          "output_type": "display_data",
          "data": {
            "text/plain": [
              "<Figure size 640x480 with 1 Axes>"
            ],
            "image/png": "[encoded data removed]"
          },
          "metadata": {}
        }
      ]
    },
    {
      "cell_type": "code",
      "source": [
        "# 정답 데이터 확인\n",
        "np.unique(y_train)"
      ],
      "metadata": {
        "colab": {
          "base_uri": "https://localhost:8080/"
        },
        "id": "cTizVTQSfDQ5",
        "outputId": "2c78ca0d-8ffc-4333-a670-3cae2196464d"
      },
      "execution_count": null,
      "outputs": [
        {
          "output_type": "execute_result",
          "data": {
            "text/plain": [
              "array([0, 1, 2, 3, 4, 5, 6, 7, 8, 9], dtype=uint8)"
            ]
          },
          "metadata": {},
          "execution_count": 7
        }
      ]
    },
    {
      "cell_type": "markdown",
      "source": [
        "### MLP 모델링\n",
        "- 입력층의 구조, 출력층의 구조 고려\n",
        "- 학습능력을 위한 중간층의 깊이 고려\n",
        "- loss, optimizer 설정"
      ],
      "metadata": {
        "id": "76JkHKZsfDWK"
      }
    },
    {
      "cell_type": "code",
      "source": [
        "# 딥러닝 라이브러리 불러오기\n",
        "from tensorflow.keras.models import Sequential\n",
        "from tensorflow.keras.layers import Dense, InputLayer, Flatten\n",
        "\n",
        "# Dense : 퍼셉트론을 묶음으로 표현하는 클래스\n",
        "# InputLater : 입력층 설정\n",
        "# Flatten : 2차원의 사진 데이터를 1차원으로 표현하기 위한 클래스"
      ],
      "metadata": {
        "id": "o2q-GFLQfDcB"
      },
      "execution_count": null,
      "outputs": []
    },
    {
      "cell_type": "code",
      "source": [
        "# 1. 신경망 설계\n",
        "# 뼈대\n",
        "digit_model = Sequential()\n",
        "\n",
        "# 입력층\n",
        "digit_model.add(InputLayer (input_shape = (28,28))) # 28*28의 2차원 데이터\n",
        "\n",
        "# 중간층\n",
        "digit_model.add(Flatten()) # 2차원의 사진 데이터를 1차원으로 변경 (선형모델을 위한 작업)\n",
        "digit_model.add(Dense(units = 16, activation = 'relu'))\n",
        "digit_model.add(Dense(units = 8, activation = 'relu'))\n",
        "digit_model.add(Dense(units = 32, activation = 'relu'))\n",
        "digit_model.add(Dense(units = 16, activation = 'relu'))\n",
        "digit_model.add(Dense(units = 8, activation = 'relu'))\n",
        "\n",
        "# 출력층 (분류모델은 확률값으로 출력받기를 원함) -> 다중분류에서는 확률값이 몇 개가 필요할까? -> 클래스의 개수만큼 선형모델(확률값) 필요\n",
        "digit_model.add(Dense(units = 10, activation='softmax'))\n",
        "# 활성화 함수 : softmax(클래스의 개수만큼 확률값이 출력 -> 총합 1로 만들어주는 함수)"
      ],
      "metadata": {
        "id": "_C2aXYX-fDiG"
      },
      "execution_count": null,
      "outputs": []
    },
    {
      "cell_type": "markdown",
      "source": [
        "[정리]\n",
        "# 출력층에서 사용하는 unit 의 개수와 활성화 함수\n",
        "- 회귀: units = 1, activation = 'linear' (default)\n",
        "- 이진분류: units = 1, activation = 'sigmoid'\n",
        "- 다중분류: units = 클래스의 개수, activation = 'softmax'"
      ],
      "metadata": {
        "id": "rCqq_jhevBou"
      }
    },
    {
      "cell_type": "code",
      "source": [
        "# 2. 모델 학습 및 평가 방법 설정\n",
        "digit_model.compile(loss = 'categorical_crossentropy',\n",
        "                    optimizer = 'SGD',\n",
        "                    metrics = ['accuracy'])\n",
        "# loss : 오차 - 실제값과 예측값의 차이\n",
        "# 회귀 : mean_squared_error\n",
        "# 이진분류 : binary_crossentropy\n",
        "# 다중분류 : categorical_crossentropy"
      ],
      "metadata": {
        "id": "XuHZiE8tfDoJ"
      },
      "execution_count": null,
      "outputs": []
    },
    {
      "cell_type": "code",
      "source": [
        "# 정답 데이터의 형태 확인\n",
        "y_train\n",
        "# 실제 결과값 (클래스 중 하나를 출력 -> 범주형)\n",
        "# 모델링 결과 : 10개의 클래스에 대한 각각의 확률값\n",
        "# 1개와 10개는 비교가 불가능\n",
        "\n",
        "# 2가지 해결방법\n",
        "# [방법1. 정답 데이터를 확률호 변경]\n",
        "# [방법2. loss함수를 변경]\n",
        "# keras에서 지원하는 자동으로 정답 데이터를 알아서 확률로 계산해주는 방법\n"
      ],
      "metadata": {
        "colab": {
          "base_uri": "https://localhost:8080/"
        },
        "id": "hw7wXNVuLe5w",
        "outputId": "3123e146-e38b-44fc-b0f8-aba34f53d862"
      },
      "execution_count": null,
      "outputs": [
        {
          "output_type": "execute_result",
          "data": {
            "text/plain": [
              "array([5, 0, 4, ..., 5, 6, 8], dtype=uint8)"
            ]
          },
          "metadata": {},
          "execution_count": 11
        }
      ]
    },
    {
      "cell_type": "code",
      "source": [
        "# [방법1. 정답 데이터를 확률값으로 변경하기]\n",
        "# 모델의 예측값은 확률값으로 출력이 되지만, 정답 데이터는 범주형 데이터로 서로 비교(loss값을 찾는 비교)가 불가능\n",
        "# 직접 정답 데이터를 범주형에서 확률값으로 변경해주자\n",
        "from tensorflow.keras.utils import to_categorical\n",
        "# 범주형 데이터를 확률값으로 변경\n",
        "one_hot_y_train = to_categorical(y_train)\n",
        "one_hot_y_train[0:2]\n",
        "# 첫번째 데이터는 5일 확률이 100%\n",
        "# 두번째 데이터는 0일 확률이 100%"
      ],
      "metadata": {
        "colab": {
          "base_uri": "https://localhost:8080/"
        },
        "id": "KK3vSm2lNWTf",
        "outputId": "dbdd7760-3d6d-4510-def8-049cda682850"
      },
      "execution_count": null,
      "outputs": [
        {
          "output_type": "execute_result",
          "data": {
            "text/plain": [
              "array([[0., 0., 0., 0., 0., 1., 0., 0., 0., 0.],\n",
              "       [1., 0., 0., 0., 0., 0., 0., 0., 0., 0.]], dtype=float32)"
            ]
          },
          "metadata": {},
          "execution_count": 12
        }
      ]
    },
    {
      "cell_type": "code",
      "source": [
        "# [방법2. loss 함수를 'sparse_categorical_crossentropy'라고 변경]\n",
        "# 평가를 할 때 알아서 확률값으로 변경해서 계산\n",
        "# 스스로 내부에서 범주값을 확률값으로 변경하는 작업을 수행 후 loss값을 계산\n",
        "digit_model.compile(loss = 'sparse_categorical_crossentropy',\n",
        "                    optimizer = 'SGD',\n",
        "                    metrics = ['accuracy'])\n",
        "\n",
        "# 2번 방법 선호!"
      ],
      "metadata": {
        "id": "wBnY4Z-QNWKa"
      },
      "execution_count": null,
      "outputs": []
    },
    {
      "cell_type": "code",
      "source": [
        "# 3. 모델 학습 및 시각화\n",
        "h1 = digit_model.fit(X_train, y_train,\n",
        "                    validation_split=0.2, # 교차검증\n",
        "                    epochs = 20)\n",
        "\n",
        "# 문제 발생\n",
        "# 오류 확인 - 정답 데이터의 shape가 일치하지 않음 (shape가 다르면 비교할 수 없음) :  ValueError: Shapes (32, 1) and (32, 10) are incompatible\n",
        "# y_train\n"
      ],
      "metadata": {
        "id": "U6PUWxGwfDuj",
        "colab": {
          "base_uri": "https://localhost:8080/"
        },
        "outputId": "d657154e-f669-49cf-a049-5e6878524d6d"
      },
      "execution_count": null,
      "outputs": [
        {
          "output_type": "stream",
          "name": "stdout",
          "text": [
            "Epoch 1/20\n",
            "1500/1500 [==============================] - 6s 3ms/step - loss: 1.9223 - accuracy: 0.2718 - val_loss: 1.7496 - val_accuracy: 0.2995\n",
            "Epoch 2/20\n",
            "1500/1500 [==============================] - 5s 3ms/step - loss: 1.4644 - accuracy: 0.4509 - val_loss: 1.2734 - val_accuracy: 0.5400\n",
            "Epoch 3/20\n",
            "1500/1500 [==============================] - 4s 3ms/step - loss: 1.0809 - accuracy: 0.5955 - val_loss: 0.9442 - val_accuracy: 0.6403\n",
            "Epoch 4/20\n",
            "1500/1500 [==============================] - 4s 3ms/step - loss: 0.8620 - accuracy: 0.7219 - val_loss: 0.8044 - val_accuracy: 0.7387\n",
            "Epoch 5/20\n",
            "1500/1500 [==============================] - 6s 4ms/step - loss: 0.7417 - accuracy: 0.7745 - val_loss: 0.7006 - val_accuracy: 0.7848\n",
            "Epoch 6/20\n",
            "1500/1500 [==============================] - 4s 2ms/step - loss: 0.6626 - accuracy: 0.8023 - val_loss: 0.6216 - val_accuracy: 0.8149\n",
            "Epoch 7/20\n",
            "1500/1500 [==============================] - 4s 2ms/step - loss: 0.6001 - accuracy: 0.8309 - val_loss: 0.5403 - val_accuracy: 0.8520\n",
            "Epoch 8/20\n",
            "1500/1500 [==============================] - 5s 3ms/step - loss: 0.5296 - accuracy: 0.8574 - val_loss: 0.4651 - val_accuracy: 0.8814\n",
            "Epoch 9/20\n",
            "1500/1500 [==============================] - 4s 3ms/step - loss: 0.4689 - accuracy: 0.8767 - val_loss: 0.4509 - val_accuracy: 0.8878\n",
            "Epoch 10/20\n",
            "1500/1500 [==============================] - 4s 3ms/step - loss: 0.4365 - accuracy: 0.8841 - val_loss: 0.4522 - val_accuracy: 0.8884\n",
            "Epoch 11/20\n",
            "1500/1500 [==============================] - 5s 3ms/step - loss: 0.4203 - accuracy: 0.8898 - val_loss: 0.6890 - val_accuracy: 0.7818\n",
            "Epoch 12/20\n",
            "1500/1500 [==============================] - 5s 3ms/step - loss: 0.3963 - accuracy: 0.8957 - val_loss: 0.6921 - val_accuracy: 0.8321\n",
            "Epoch 13/20\n",
            "1500/1500 [==============================] - 4s 3ms/step - loss: 0.3617 - accuracy: 0.9071 - val_loss: 0.3779 - val_accuracy: 0.9060\n",
            "Epoch 14/20\n",
            "1500/1500 [==============================] - 4s 3ms/step - loss: 0.3371 - accuracy: 0.9123 - val_loss: 0.3484 - val_accuracy: 0.9109\n",
            "Epoch 15/20\n",
            "1500/1500 [==============================] - 5s 4ms/step - loss: 0.3136 - accuracy: 0.9180 - val_loss: 0.3630 - val_accuracy: 0.9122\n",
            "Epoch 16/20\n",
            "1500/1500 [==============================] - 4s 3ms/step - loss: 0.2984 - accuracy: 0.9207 - val_loss: 0.3279 - val_accuracy: 0.9143\n",
            "Epoch 17/20\n",
            "1500/1500 [==============================] - 4s 3ms/step - loss: 0.2862 - accuracy: 0.9244 - val_loss: 0.3420 - val_accuracy: 0.9182\n",
            "Epoch 18/20\n",
            "1500/1500 [==============================] - 5s 3ms/step - loss: 0.2806 - accuracy: 0.9265 - val_loss: 0.3008 - val_accuracy: 0.9268\n",
            "Epoch 19/20\n",
            "1500/1500 [==============================] - 4s 3ms/step - loss: 0.2681 - accuracy: 0.9288 - val_loss: 0.2975 - val_accuracy: 0.9262\n",
            "Epoch 20/20\n",
            "1500/1500 [==============================] - 4s 3ms/step - loss: 0.2596 - accuracy: 0.9306 - val_loss: 0.2779 - val_accuracy: 0.9304\n"
          ]
        }
      ]
    },
    {
      "cell_type": "code",
      "source": [
        "# 학습결과 시각화\n",
        "\n",
        "# loss\n",
        "plt.figure(figsize=(15,5))\n",
        "plt.plot(h1.history['loss'], label='train_loss')\n",
        "# val_loss\n",
        "plt.plot(h1.history['val_loss'], label='val_loss')\n",
        "plt.legend()\n",
        "plt.show()"
      ],
      "metadata": {
        "colab": {
          "base_uri": "https://localhost:8080/",
          "height": 394
        },
        "id": "dIojpccoPEzh",
        "outputId": "f4109ea3-fb11-4f7b-a02d-7b1c4ef5b599"
      },
      "execution_count": null,
      "outputs": [
        {
          "output_type": "display_data",
          "data": {
            "text/plain": [
              "<Figure size 1500x500 with 1 Axes>"
            ],
            "image/png": "[encoded data removed]"
          },
          "metadata": {}
        }
      ]
    },
    {
      "cell_type": "code",
      "source": [
        "# 4. 모델 예측 및 평가\n",
        "digit_model.evaluate(X_test,y_test)\n",
        "\n",
        "# 정확도 0.847"
      ],
      "metadata": {
        "id": "A8LDcgDgfD09",
        "colab": {
          "base_uri": "https://localhost:8080/"
        },
        "outputId": "908bc9e4-6079-4bcd-d093-3da7ecb5f983"
      },
      "execution_count": null,
      "outputs": [
        {
          "output_type": "stream",
          "name": "stdout",
          "text": [
            "313/313 [==============================] - 1s 3ms/step - loss: 0.2883 - accuracy: 0.9255\n"
          ]
        },
        {
          "output_type": "execute_result",
          "data": {
            "text/plain": [
              "[0.28833046555519104, 0.9254999756813049]"
            ]
          },
          "metadata": {},
          "execution_count": 16
        }
      ]
    },
    {
      "cell_type": "markdown",
      "source": [
        "### 직접 작성한 손글씨 숫자 test 해보기"
      ],
      "metadata": {
        "id": "tju33v6WfD7V"
      }
    },
    {
      "cell_type": "code",
      "source": [
        "# 파있너에서 이미지를 처리하는 라이브러리\n",
        "import PIL.Image as pimg"
      ],
      "metadata": {
        "id": "tWN1SphAfEBq"
      },
      "execution_count": null,
      "outputs": []
    },
    {
      "cell_type": "code",
      "source": [
        "img = pimg.open('/content/drive/MyDrive/Colab Notebooks/DeepLearning/data/손글씨/2.png').convert('L')\n",
        "plt.imshow(img,cmap='gray')"
      ],
      "metadata": {
        "id": "54uxVINqfEHq",
        "colab": {
          "base_uri": "https://localhost:8080/",
          "height": 448
        },
        "outputId": "a3f71c1a-5ec9-4991-a9fd-58d507fa94e7"
      },
      "execution_count": null,
      "outputs": [
        {
          "output_type": "execute_result",
          "data": {
            "text/plain": [
              "<matplotlib.image.AxesImage at 0x7cb16682ccd0>"
            ]
          },
          "metadata": {},
          "execution_count": 18
        },
        {
          "output_type": "display_data",
          "data": {
            "text/plain": [
              "<Figure size 640x480 with 1 Axes>"
            ],
            "image/png": "[encoded data removed]"
          },
          "metadata": {}
        }
      ]
    },
    {
      "cell_type": "code",
      "source": [
        "# 전처리\n",
        "# 이미지 타입을 배열로 변환\n",
        "img = np.array(img)\n",
        "img.shape"
      ],
      "metadata": {
        "id": "vXZqvdvVfEN5",
        "colab": {
          "base_uri": "https://localhost:8080/"
        },
        "outputId": "d5e1817e-fc81-48e7-c75e-4bb6c0b8d43c"
      },
      "execution_count": null,
      "outputs": [
        {
          "output_type": "execute_result",
          "data": {
            "text/plain": [
              "(28, 28)"
            ]
          },
          "metadata": {},
          "execution_count": 19
        }
      ]
    },
    {
      "cell_type": "code",
      "source": [
        "# 2차원 -> 1차원\n",
        "test_img = img.reshape(1,28,28,1)\n",
        "test_img.astype('float32')/255\n",
        "test_img.shape"
      ],
      "metadata": {
        "id": "1YXbQdtYfETr",
        "colab": {
          "base_uri": "https://localhost:8080/"
        },
        "outputId": "ec507fcf-3ce8-4b52-a9af-32b7f44f30b6"
      },
      "execution_count": null,
      "outputs": [
        {
          "output_type": "execute_result",
          "data": {
            "text/plain": [
              "(1, 28, 28, 1)"
            ]
          },
          "metadata": {},
          "execution_count": 20
        }
      ]
    },
    {
      "cell_type": "code",
      "source": [
        "# 예측\n",
        "digit_model.predict(test_img)\n",
        "\n",
        "# 결과 : 10개의 확률로 출력\n"
      ],
      "metadata": {
        "id": "sEu6ZB-IfEaQ",
        "colab": {
          "base_uri": "https://localhost:8080/"
        },
        "outputId": "82f50d11-e61a-48e5-9e8e-6d53db918236"
      },
      "execution_count": null,
      "outputs": [
        {
          "output_type": "stream",
          "name": "stdout",
          "text": [
            "1/1 [==============================] - 0s 214ms/step\n"
          ]
        },
        {
          "output_type": "execute_result",
          "data": {
            "text/plain": [
              "array([[5.2733818e-04, 5.0734438e-02, 5.8352602e-01, 1.4258102e-01,\n",
              "        1.7958831e-02, 8.2112635e-03, 1.5077611e-02, 2.7485290e-03,\n",
              "        1.3087156e-01, 4.7763437e-02]], dtype=float32)"
            ]
          },
          "metadata": {},
          "execution_count": 21
        }
      ]
    },
    {
      "cell_type": "code",
      "source": [
        "img2 = pimg.open('/content/drive/MyDrive/Colab Notebooks/DeepLearning/data/손글씨/7_1.png').convert('L')\n",
        "plt.imshow(img2, cmap='gray')"
      ],
      "metadata": {
        "id": "7pk7sv5gfEgT",
        "colab": {
          "base_uri": "https://localhost:8080/",
          "height": 448
        },
        "outputId": "d8aea84b-ea06-4048-839b-bf57143f680e"
      },
      "execution_count": null,
      "outputs": [
        {
          "output_type": "execute_result",
          "data": {
            "text/plain": [
              "<matplotlib.image.AxesImage at 0x7cb17d916590>"
            ]
          },
          "metadata": {},
          "execution_count": 22
        },
        {
          "output_type": "display_data",
          "data": {
            "text/plain": [
              "<Figure size 640x480 with 1 Axes>"
            ],
            "image/png": "[encoded data removed]"
          },
          "metadata": {}
        }
      ]
    },
    {
      "cell_type": "code",
      "source": [
        "img2 = np.array(img2)\n",
        "img2.shape"
      ],
      "metadata": {
        "id": "kV4qjwAOfEmf",
        "colab": {
          "base_uri": "https://localhost:8080/"
        },
        "outputId": "c37192f4-073c-4fe0-ea1a-c25d666c9c07"
      },
      "execution_count": null,
      "outputs": [
        {
          "output_type": "execute_result",
          "data": {
            "text/plain": [
              "(28, 28)"
            ]
          },
          "metadata": {},
          "execution_count": 23
        }
      ]
    },
    {
      "cell_type": "code",
      "source": [
        "test_img2 = img2.reshape(1,28,28,1)\n",
        "test_img2.astype('float32')/255\n",
        "test_img2.shape"
      ],
      "metadata": {
        "colab": {
          "base_uri": "https://localhost:8080/"
        },
        "id": "Mq-XiZ4Qe9xs",
        "outputId": "f763d272-48ca-4fbe-fd78-27f041947474"
      },
      "execution_count": null,
      "outputs": [
        {
          "output_type": "execute_result",
          "data": {
            "text/plain": [
              "(1, 28, 28, 1)"
            ]
          },
          "metadata": {},
          "execution_count": 24
        }
      ]
    },
    {
      "cell_type": "code",
      "source": [
        "digit_model.predict(test_img2)"
      ],
      "metadata": {
        "colab": {
          "base_uri": "https://localhost:8080/"
        },
        "id": "HOBN0Q0Oe_wp",
        "outputId": "16dd25c5-e76d-408f-c55b-c7c7860116d5"
      },
      "execution_count": null,
      "outputs": [
        {
          "output_type": "stream",
          "name": "stdout",
          "text": [
            "1/1 [==============================] - 0s 23ms/step\n"
          ]
        },
        {
          "output_type": "execute_result",
          "data": {
            "text/plain": [
              "array([[0.12749271, 0.00187381, 0.00456748, 0.00559505, 0.04293038,\n",
              "        0.6856216 , 0.00610722, 0.03431495, 0.07952096, 0.01197592]],\n",
              "      dtype=float32)"
            ]
          },
          "metadata": {},
          "execution_count": 25
        }
      ]
    },
    {
      "cell_type": "code",
      "source": [],
      "metadata": {
        "id": "Ohl3hktKe_29"
      },
      "execution_count": null,
      "outputs": []
    },
    {
      "cell_type": "code",
      "source": [],
      "metadata": {
        "id": "fFQzQ7uie_70"
      },
      "execution_count": null,
      "outputs": []
    },
    {
      "cell_type": "code",
      "source": [],
      "metadata": {
        "id": "55CaJ1zTfAAw"
      },
      "execution_count": null,
      "outputs": []
    },
    {
      "cell_type": "code",
      "source": [],
      "metadata": {
        "id": "PyJxm067fAFg"
      },
      "execution_count": null,
      "outputs": []
    },
    {
      "cell_type": "code",
      "source": [],
      "metadata": {
        "id": "g-e06uHKfAKT"
      },
      "execution_count": null,
      "outputs": []
    },
    {
      "cell_type": "code",
      "source": [],
      "metadata": {
        "id": "g-bLYJcTfAPb"
      },
      "execution_count": null,
      "outputs": []
    },
    {
      "cell_type": "code",
      "source": [],
      "metadata": {
        "id": "ONvsAV8KfAUW"
      },
      "execution_count": null,
      "outputs": []
    },
    {
      "cell_type": "code",
      "source": [],
      "metadata": {
        "id": "B7tB8JiEfAZi"
      },
      "execution_count": null,
      "outputs": []
    },
    {
      "cell_type": "code",
      "source": [],
      "metadata": {
        "id": "Z8t48LAIfAeq"
      },
      "execution_count": null,
      "outputs": []
    },
    {
      "cell_type": "code",
      "source": [],
      "metadata": {
        "id": "IbqLMKN5fAkF"
      },
      "execution_count": null,
      "outputs": []
    }
  ]
}